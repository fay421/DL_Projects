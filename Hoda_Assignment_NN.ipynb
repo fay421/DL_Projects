{
  "cells": [
    {
      "cell_type": "markdown",
      "metadata": {
        "id": "view-in-github",
        "colab_type": "text"
      },
      "source": [
        "<a href=\"https://colab.research.google.com/github/fay421/DL_Projects/blob/main/Hoda_Assignment_NN.ipynb\" target=\"_parent\"><img src=\"https://colab.research.google.com/assets/colab-badge.svg\" alt=\"Open In Colab\"/></a>"
      ]
    },
    {
      "cell_type": "markdown",
      "source": [
        "## Get Hoda Dataset from Github"
      ],
      "metadata": {
        "id": "3cy3sCn6gOt0"
      }
    },
    {
      "cell_type": "code",
      "execution_count": 1,
      "metadata": {
        "colab": {
          "base_uri": "https://localhost:8080/"
        },
        "id": "lIYdn1woOS1n",
        "outputId": "632d519a-9759-471f-a27b-b8a0827450eb"
      },
      "outputs": [
        {
          "output_type": "stream",
          "name": "stdout",
          "text": [
            "Cloning into 'HodaDatasetReader'...\n",
            "remote: Enumerating objects: 24, done.\u001b[K\n",
            "remote: Total 24 (delta 0), reused 0 (delta 0), pack-reused 24\u001b[K\n",
            "Receiving objects: 100% (24/24), 6.34 MiB | 10.79 MiB/s, done.\n",
            "Resolving deltas: 100% (6/6), done.\n"
          ]
        }
      ],
      "source": [
        "!git clone https://github.com/amir-saniyan/HodaDatasetReader.git"
      ]
    },
    {
      "cell_type": "markdown",
      "source": [
        "## Read Dataset"
      ],
      "metadata": {
        "id": "ubVx4MRlgxjc"
      }
    },
    {
      "cell_type": "code",
      "source": [
        "import struct\n",
        "import numpy as np\n",
        "import cv2\n",
        "import matplotlib.pyplot as plt"
      ],
      "metadata": {
        "id": "7XAtCiQJg3jk"
      },
      "execution_count": 2,
      "outputs": []
    },
    {
      "cell_type": "code",
      "source": [
        "def __convert_to_one_hot(vector, num_classes):\n",
        "    result = np.zeros(shape=[len(vector), num_classes])\n",
        "    result[np.arange(len(vector)), vector] = 1\n",
        "    return result\n",
        "\n",
        "\n",
        "def __resize_image(src_image, dst_image_height, dst_image_width):\n",
        "    src_image_height = src_image.shape[0]\n",
        "    src_image_width = src_image.shape[1]\n",
        "\n",
        "    if src_image_height > dst_image_height or src_image_width > dst_image_width:\n",
        "        height_scale = dst_image_height / src_image_height\n",
        "        width_scale = dst_image_width / src_image_width\n",
        "        scale = min(height_scale, width_scale)\n",
        "        img = cv2.resize(src=src_image, dsize=(0, 0), fx=scale, fy=scale, interpolation=cv2.INTER_CUBIC)\n",
        "    else:\n",
        "        img = src_image\n",
        "\n",
        "    img_height = img.shape[0]\n",
        "    img_width = img.shape[1]\n",
        "\n",
        "    dst_image = np.zeros(shape=[dst_image_height, dst_image_width], dtype=np.uint8)\n",
        "\n",
        "    y_offset = (dst_image_height - img_height) // 2\n",
        "    x_offset = (dst_image_width - img_width) // 2\n",
        "\n",
        "    dst_image[y_offset:y_offset+img_height, x_offset:x_offset+img_width] = img\n",
        "\n",
        "    return dst_image\n",
        "\n",
        "\n",
        "def read_hoda_cdb(file_name):\n",
        "    with open(file_name, 'rb') as binary_file:\n",
        "\n",
        "        data = binary_file.read()\n",
        "\n",
        "        offset = 0\n",
        "\n",
        "        # read private header\n",
        "\n",
        "        yy = struct.unpack_from('H', data, offset)[0]\n",
        "        offset += 2\n",
        "\n",
        "        m = struct.unpack_from('B', data, offset)[0]\n",
        "        offset += 1\n",
        "\n",
        "        d = struct.unpack_from('B', data, offset)[0]\n",
        "        offset += 1\n",
        "\n",
        "        H = struct.unpack_from('B', data, offset)[0]\n",
        "        offset += 1\n",
        "\n",
        "        W = struct.unpack_from('B', data, offset)[0]\n",
        "        offset += 1\n",
        "\n",
        "        TotalRec = struct.unpack_from('I', data, offset)[0]\n",
        "        offset += 4\n",
        "\n",
        "        LetterCount = struct.unpack_from('128I', data, offset)\n",
        "        offset += 128 * 4\n",
        "\n",
        "        imgType = struct.unpack_from('B', data, offset)[0]  # 0: binary, 1: gray\n",
        "        offset += 1\n",
        "\n",
        "        Comments = struct.unpack_from('256c', data, offset)\n",
        "        offset += 256 * 1\n",
        "\n",
        "        Reserved = struct.unpack_from('245c', data, offset)\n",
        "        offset += 245 * 1\n",
        "\n",
        "        if (W > 0) and (H > 0):\n",
        "            normal = True\n",
        "        else:\n",
        "            normal = False\n",
        "\n",
        "        images = []\n",
        "        labels = []\n",
        "\n",
        "        for i in range(TotalRec):\n",
        "\n",
        "            StartByte = struct.unpack_from('B', data, offset)[0]  # must be 0xff\n",
        "            offset += 1\n",
        "\n",
        "            label = struct.unpack_from('B', data, offset)[0]\n",
        "            offset += 1\n",
        "\n",
        "            if not normal:\n",
        "                W = struct.unpack_from('B', data, offset)[0]\n",
        "                offset += 1\n",
        "\n",
        "                H = struct.unpack_from('B', data, offset)[0]\n",
        "                offset += 1\n",
        "\n",
        "            ByteCount = struct.unpack_from('H', data, offset)[0]\n",
        "            offset += 2\n",
        "\n",
        "            image = np.zeros(shape=[H, W], dtype=np.uint8)\n",
        "\n",
        "            if imgType == 0:\n",
        "                # Binary\n",
        "                for y in range(H):\n",
        "                    bWhite = True\n",
        "                    counter = 0\n",
        "                    while counter < W:\n",
        "                        WBcount = struct.unpack_from('B', data, offset)[0]\n",
        "                        offset += 1\n",
        "                        # x = 0\n",
        "                        # while x < WBcount:\n",
        "                        #     if bWhite:\n",
        "                        #         image[y, x + counter] = 0  # Background\n",
        "                        #     else:\n",
        "                        #         image[y, x + counter] = 255  # ForeGround\n",
        "                        #     x += 1\n",
        "                        if bWhite:\n",
        "                            image[y, counter:counter + WBcount] = 0  # Background\n",
        "                        else:\n",
        "                            image[y, counter:counter + WBcount] = 255  # ForeGround\n",
        "                        bWhite = not bWhite  # black white black white ...\n",
        "                        counter += WBcount\n",
        "            else:\n",
        "                # GrayScale mode\n",
        "                data = struct.unpack_from('{}B'.format(W * H), data, offset)\n",
        "                offset += W * H\n",
        "                image = np.asarray(data, dtype=np.uint8).reshape([W, H]).T\n",
        "\n",
        "            images.append(image)\n",
        "            labels.append(label)\n",
        "\n",
        "        return images, labels\n",
        "\n",
        "\n",
        "def read_hoda_dataset(dataset_path, images_height=32, images_width=32, one_hot=False, reshape=True):\n",
        "    images, labels = read_hoda_cdb(dataset_path)\n",
        "    assert len(images) == len(labels)\n",
        "\n",
        "    X = np.zeros(shape=[len(images), images_height, images_width], dtype=np.float32)\n",
        "    Y = np.zeros(shape=[len(labels)])\n",
        "\n",
        "    for i in range(len(images)):\n",
        "        image = images[i]\n",
        "        # Image resizing.\n",
        "        image = __resize_image(src_image=image, dst_image_height=images_height, dst_image_width=images_width)\n",
        "        # Image normalization.\n",
        "        image = image / 255\n",
        "        # Image binarization.\n",
        "        image = np.where(image >= 0.5, 1, 0)\n",
        "        # Image.\n",
        "        X[i] = image\n",
        "        # Label.\n",
        "        Y[i] = labels[i]\n",
        "\n",
        "    if one_hot:\n",
        "        Y = __convert_to_one_hot(Y, 10).astype(dtype=np.float32)\n",
        "    else:\n",
        "        Y = Y.astype(dtype=np.float32)\n",
        "\n",
        "    if reshape:\n",
        "        X = X.reshape(-1, images_height * images_width)\n",
        "    else:\n",
        "        X = X.reshape(-1, images_height, images_width, 1)\n",
        "\n",
        "    return X, Y\n"
      ],
      "metadata": {
        "id": "pVCPxuABg7_1"
      },
      "execution_count": 3,
      "outputs": []
    },
    {
      "cell_type": "markdown",
      "source": [
        "## Seperate Data and Label"
      ],
      "metadata": {
        "id": "k7vISn6JhJy9"
      }
    },
    {
      "cell_type": "code",
      "source": [
        "X_train, y_train = read_hoda_dataset('/content/HodaDatasetReader/DigitDB/Train 60000.cdb')\n",
        "X_test, y_test = read_hoda_dataset('/content/HodaDatasetReader/DigitDB/Test 20000.cdb')"
      ],
      "metadata": {
        "id": "2VxEX6aShPB4"
      },
      "execution_count": 4,
      "outputs": []
    },
    {
      "cell_type": "markdown",
      "source": [
        "## Check the Dataset"
      ],
      "metadata": {
        "id": "6lAagLN1htUk"
      }
    },
    {
      "cell_type": "code",
      "source": [
        "X_train.shape"
      ],
      "metadata": {
        "id": "CfeBkeALhs8z",
        "outputId": "9158b885-58eb-4a5d-813f-5c3a0b855db4",
        "colab": {
          "base_uri": "https://localhost:8080/"
        }
      },
      "execution_count": null,
      "outputs": [
        {
          "output_type": "execute_result",
          "data": {
            "text/plain": [
              "(60000, 1024)"
            ]
          },
          "metadata": {},
          "execution_count": 29
        }
      ]
    },
    {
      "cell_type": "code",
      "source": [
        "y_train"
      ],
      "metadata": {
        "id": "sdOFT6pmhxWl",
        "outputId": "ce58656c-f274-4ee4-d7ed-3a39d5746b98",
        "colab": {
          "base_uri": "https://localhost:8080/"
        }
      },
      "execution_count": null,
      "outputs": [
        {
          "output_type": "execute_result",
          "data": {
            "text/plain": [
              "array([6., 5., 0., ..., 2., 6., 6.], dtype=float32)"
            ]
          },
          "metadata": {},
          "execution_count": 30
        }
      ]
    },
    {
      "cell_type": "code",
      "source": [
        "X_test.shape"
      ],
      "metadata": {
        "id": "Ga1kgLY3h-_t",
        "outputId": "a7425c6b-78b5-4864-8114-0a63802aa410",
        "colab": {
          "base_uri": "https://localhost:8080/"
        }
      },
      "execution_count": null,
      "outputs": [
        {
          "output_type": "execute_result",
          "data": {
            "text/plain": [
              "(20000, 1024)"
            ]
          },
          "metadata": {},
          "execution_count": 31
        }
      ]
    },
    {
      "cell_type": "markdown",
      "source": [
        "## Visualization"
      ],
      "metadata": {
        "id": "Qy3HPokSiIOs"
      }
    },
    {
      "cell_type": "code",
      "source": [
        "plt.figure(figsize=(10,4))\n",
        "for i in range(1,11):\n",
        "  plt.subplot(2,5,i)\n",
        "  plt.imshow(X_train[i].reshape(32,32))\n",
        "  plt.title(y_train[i])\n",
        "plt.tight_layout()\n",
        "plt.show();"
      ],
      "metadata": {
        "id": "5mtn62RRiB6o",
        "outputId": "958be16d-92c0-402a-ab1c-07b4930e9bb2",
        "colab": {
          "base_uri": "https://localhost:8080/",
          "height": 413
        }
      },
      "execution_count": null,
      "outputs": [
        {
          "output_type": "display_data",
          "data": {
            "text/plain": [
              "<Figure size 1000x400 with 10 Axes>"
            ],
            "image/png": "[encoded data removed]"
          },
          "metadata": {}
        }
      ]
    },
    {
      "cell_type": "markdown",
      "source": [
        "## ANN Model\n",
        "### Import the libraries"
      ],
      "metadata": {
        "id": "RFPhpA1iok3U"
      }
    },
    {
      "cell_type": "code",
      "source": [
        "from tensorflow.keras.models import Model\n",
        "from tensorflow.keras.layers import Dense, Input"
      ],
      "metadata": {
        "id": "VDMLfEmCnmVh"
      },
      "execution_count": null,
      "outputs": []
    },
    {
      "cell_type": "markdown",
      "source": [
        "## Build a Neural Network"
      ],
      "metadata": {
        "id": "vNliZ1oys47c"
      }
    },
    {
      "cell_type": "code",
      "source": [
        "input_layer = Input(shape=(1024,) , name = 'input_layer')"
      ],
      "metadata": {
        "id": "LpsNjN_vs1lU"
      },
      "execution_count": null,
      "outputs": []
    },
    {
      "cell_type": "code",
      "source": [
        "Layer_1 = Dense(32, activation = 'relu',name = 'Layer_1')(input_layer)\n",
        "Layer_2 =Dense(64, activation ='relu',name = 'Layer_2')(Layer_1)\n",
        "Layer_3 = Dense(32, activation = 'relu',name = 'Layer_3')(Layer_2)\n"
      ],
      "metadata": {
        "id": "UNCPhlT3uWQe"
      },
      "execution_count": null,
      "outputs": []
    },
    {
      "cell_type": "code",
      "source": [
        "output = Dense(10 ,activation = 'softmax' ,name = 'output')(Layer_3)\n",
        "model = Model(inputs = input_layer ,outputs = output)"
      ],
      "metadata": {
        "id": "o2C3njQQxjAg"
      },
      "execution_count": null,
      "outputs": []
    },
    {
      "cell_type": "code",
      "source": [
        "model.summary()"
      ],
      "metadata": {
        "id": "adJrtLXYyNwY",
        "outputId": "d446f8cc-a164-4df2-b1bd-b2c86b0d4e56",
        "colab": {
          "base_uri": "https://localhost:8080/"
        }
      },
      "execution_count": null,
      "outputs": [
        {
          "output_type": "stream",
          "name": "stdout",
          "text": [
            "Model: \"model_7\"\n",
            "_________________________________________________________________\n",
            " Layer (type)                Output Shape              Param #   \n",
            "=================================================================\n",
            " input_layer (InputLayer)    [(None, 1024)]            0         \n",
            "                                                                 \n",
            " Layer_1 (Dense)             (None, 32)                32800     \n",
            "                                                                 \n",
            " Layer_2 (Dense)             (None, 64)                2112      \n",
            "                                                                 \n",
            " Layer_3 (Dense)             (None, 32)                2080      \n",
            "                                                                 \n",
            " output (Dense)              (None, 10)                330       \n",
            "                                                                 \n",
            "=================================================================\n",
            "Total params: 37322 (145.79 KB)\n",
            "Trainable params: 37322 (145.79 KB)\n",
            "Non-trainable params: 0 (0.00 Byte)\n",
            "_________________________________________________________________\n"
          ]
        }
      ]
    },
    {
      "cell_type": "markdown",
      "source": [
        "## Import optimizer, loss , metric"
      ],
      "metadata": {
        "id": "JWgqddaX0X8e"
      }
    },
    {
      "cell_type": "code",
      "source": [
        "from keras.optimizers import Adam\n",
        "from keras.losses import SparseCategoricalCrossentropy\n",
        "from keras.metrics import F1Score, Accuracy"
      ],
      "metadata": {
        "id": "zgt5fPYZyRJt"
      },
      "execution_count": null,
      "outputs": []
    },
    {
      "cell_type": "code",
      "source": [
        "adam = Adam(learning_rate =0.001,beta_1=0.9,beta_2=0.999)\n",
        "scce =SparseCategoricalCrossentropy()"
      ],
      "metadata": {
        "id": "iJ6qpSth1bMo"
      },
      "execution_count": null,
      "outputs": []
    },
    {
      "cell_type": "markdown",
      "source": [
        "## Compile Model"
      ],
      "metadata": {
        "id": "2reHFtFm2E6m"
      }
    },
    {
      "cell_type": "code",
      "source": [
        "model.compile(optimizer= adam,loss = scce, metrics=['accuracy'] )"
      ],
      "metadata": {
        "id": "VrGNgK782Agu"
      },
      "execution_count": null,
      "outputs": []
    },
    {
      "cell_type": "code",
      "source": [
        "history = model.fit(X_train,y_train, epochs = 10,batch_size =32,\n",
        "                    validation_data=(X_test,y_test),verbose= True )"
      ],
      "metadata": {
        "id": "GaDt8OgG2lCn",
        "outputId": "9b1165c9-335a-4022-c969-48257f1dd6bc",
        "colab": {
          "base_uri": "https://localhost:8080/"
        }
      },
      "execution_count": null,
      "outputs": [
        {
          "output_type": "stream",
          "name": "stdout",
          "text": [
            "Epoch 1/10\n",
            "1875/1875 [==============================] - 9s 4ms/step - loss: 0.1762 - accuracy: 0.9493 - val_loss: 0.1558 - val_accuracy: 0.9527\n",
            "Epoch 2/10\n",
            "1875/1875 [==============================] - 7s 4ms/step - loss: 0.0704 - accuracy: 0.9794 - val_loss: 0.1420 - val_accuracy: 0.9611\n",
            "Epoch 3/10\n",
            "1875/1875 [==============================] - 6s 3ms/step - loss: 0.0519 - accuracy: 0.9844 - val_loss: 0.1196 - val_accuracy: 0.9664\n",
            "Epoch 4/10\n",
            "1875/1875 [==============================] - 8s 4ms/step - loss: 0.0405 - accuracy: 0.9872 - val_loss: 0.1100 - val_accuracy: 0.9695\n",
            "Epoch 5/10\n",
            "1875/1875 [==============================] - 7s 4ms/step - loss: 0.0331 - accuracy: 0.9894 - val_loss: 0.1168 - val_accuracy: 0.9661\n",
            "Epoch 6/10\n",
            "1875/1875 [==============================] - 7s 4ms/step - loss: 0.0280 - accuracy: 0.9906 - val_loss: 0.1224 - val_accuracy: 0.9675\n",
            "Epoch 7/10\n",
            "1875/1875 [==============================] - 7s 4ms/step - loss: 0.0238 - accuracy: 0.9925 - val_loss: 0.1540 - val_accuracy: 0.9617\n",
            "Epoch 8/10\n",
            "1875/1875 [==============================] - 7s 4ms/step - loss: 0.0204 - accuracy: 0.9933 - val_loss: 0.1665 - val_accuracy: 0.9621\n",
            "Epoch 9/10\n",
            "1875/1875 [==============================] - 7s 4ms/step - loss: 0.0176 - accuracy: 0.9936 - val_loss: 0.1503 - val_accuracy: 0.9685\n",
            "Epoch 10/10\n",
            "1875/1875 [==============================] - 6s 3ms/step - loss: 0.0162 - accuracy: 0.9948 - val_loss: 0.1373 - val_accuracy: 0.9711\n"
          ]
        }
      ]
    },
    {
      "cell_type": "markdown",
      "source": [],
      "metadata": {
        "id": "QCNw_kMbf0Gr"
      }
    },
    {
      "cell_type": "code",
      "source": [
        "plt.plot(history.history['loss'])\n",
        "plt.plot(history.history['val_loss']);"
      ],
      "metadata": {
        "id": "LCjEReehTr4R",
        "outputId": "bc90ee22-ed80-45c9-933e-8fc5a6e8c75b",
        "colab": {
          "base_uri": "https://localhost:8080/",
          "height": 430
        }
      },
      "execution_count": null,
      "outputs": [
        {
          "output_type": "display_data",
          "data": {
            "text/plain": [
              "<Figure size 640x480 with 1 Axes>"
            ],
            "image/png": "[encoded data removed]"
          },
          "metadata": {}
        }
      ]
    },
    {
      "cell_type": "markdown",
      "source": [
        "## Result for these parameters:\n",
        "\n",
        "\n",
        "*   Learning_rate:0.001\n",
        "*   epoch:10\n",
        "*   Layers:32-64-32\n",
        "*   acc: 0.9945  ,loss:0.0158  ,val_loss:0.1436, val_acc:0.9711\n",
        "\n"
      ],
      "metadata": {
        "id": "vZpyPj_ufRMo"
      }
    },
    {
      "cell_type": "markdown",
      "source": [
        "## The plot shows the training loss decreasing over time, which is a good sign as it indicates that the model is learning from the training data. However, the validation loss, after an initial decrease, starts to plateau and even slightly increase towards the end of the training epochs. This divergence between training loss and validation loss can be indicative of overfitting.\n",
        "\n",
        "Overfitting occurs when the model learns patterns that are specific to the training data, which do not generalize well to unseen data. This is typically characterized by:\n",
        "\n",
        "Training loss continuing to decrease.\n",
        "Validation loss decreasing initially, but then increasing or plateauing.\n",
        "Since the model is performing better on the training data than on the validation data (as suggested by the increasing gap between the training and validation loss), it may be memorizing the training data rather than learning generalizable features."
      ],
      "metadata": {
        "id": "V-ZmjwIofFBQ"
      }
    },
    {
      "cell_type": "markdown",
      "source": [
        "## To mitigate overfitting, we can consider the following strategies:\n",
        "\n",
        "1- Add Dropout Layers: Introduce dropout layers to the network to prevent the model from relying too much on any given set of features.\n",
        "\n",
        "2- Implement Early Stopping: Stop the training when the validation loss starts to increase to prevent overfitting.\n",
        "\n",
        "3- Use Regularization Techniques: L1 or L2 regularization can be applied to the dense layers to constrain the weights during optimization.\n",
        "\n",
        "4- Data Augmentation: Although not commonly used with non-image data, creating variations of your training data could help if applicable.\n",
        "\n",
        "5- Reduce Model Complexity: Simplify the model by reducing the number of layers or the number of neurons in the layers.\n",
        "\n",
        "6- Increase Data Quantity: If possible, increase the amount of training data to improve the generalization of the model.\n",
        "\n",
        "7-Cross-Validation: Use k-fold cross-validation to ensure that the model is evaluated on different data splits."
      ],
      "metadata": {
        "id": "j5-lL2nmgCYR"
      }
    },
    {
      "cell_type": "markdown",
      "source": [
        "## 1-Add DropOut"
      ],
      "metadata": {
        "id": "kk429ed8j9aw"
      }
    },
    {
      "cell_type": "code",
      "source": [
        "from tensorflow.keras.models import Model\n",
        "from tensorflow.keras.layers import Dense, Input,Dropout"
      ],
      "metadata": {
        "id": "rOHSLGUYj8Qx"
      },
      "execution_count": null,
      "outputs": []
    },
    {
      "cell_type": "code",
      "source": [
        "input_layer = Input(shape=(1024,) , name = 'input_layer')\n",
        "Layer_1 = Dense(32, activation = 'relu',name = 'Layer_1')(input_layer)\n",
        "Dropout_1 = Dropout(0.5,name ='Dropout_1')(Layer_1)\n",
        "Layer_2 =Dense(64, activation ='relu',name = 'Layer_2')(Dropout_1)\n",
        "Dropout_2 = Dropout(0.5, name='Dropout_2')(Layer_2)\n",
        "Layer_3 = Dense(32, activation = 'relu',name = 'Layer_3')(Dropout_2)\n",
        "Dropout_3 = Dropout(0.5,name='Dropout_3')(Layer_3)\n",
        "output = Dense(10 ,activation = 'softmax' ,name = 'output')(Dropout_3)\n",
        "model = Model(inputs = input_layer ,outputs = output)"
      ],
      "metadata": {
        "id": "HuDzs5k0fGrQ"
      },
      "execution_count": null,
      "outputs": []
    },
    {
      "cell_type": "code",
      "source": [
        "model.summary()"
      ],
      "metadata": {
        "id": "UWNP6uxmkT4q",
        "outputId": "d297126d-9b2c-479f-804d-0e9f12172b86",
        "colab": {
          "base_uri": "https://localhost:8080/"
        }
      },
      "execution_count": null,
      "outputs": [
        {
          "output_type": "stream",
          "name": "stdout",
          "text": [
            "Model: \"model_1\"\n",
            "_________________________________________________________________\n",
            " Layer (type)                Output Shape              Param #   \n",
            "=================================================================\n",
            " input_layer (InputLayer)    [(None, 1024)]            0         \n",
            "                                                                 \n",
            " Layer_1 (Dense)             (None, 32)                32800     \n",
            "                                                                 \n",
            " Dropout_1 (Dropout)         (None, 32)                0         \n",
            "                                                                 \n",
            " Layer_2 (Dense)             (None, 64)                2112      \n",
            "                                                                 \n",
            " Dropout_2 (Dropout)         (None, 64)                0         \n",
            "                                                                 \n",
            " Layer_3 (Dense)             (None, 32)                2080      \n",
            "                                                                 \n",
            " Dropout_3 (Dropout)         (None, 32)                0         \n",
            "                                                                 \n",
            " output (Dense)              (None, 10)                330       \n",
            "                                                                 \n",
            "=================================================================\n",
            "Total params: 37322 (145.79 KB)\n",
            "Trainable params: 37322 (145.79 KB)\n",
            "Non-trainable params: 0 (0.00 Byte)\n",
            "_________________________________________________________________\n"
          ]
        }
      ]
    },
    {
      "cell_type": "code",
      "source": [
        "from keras.optimizers import Adam\n",
        "from keras.losses import SparseCategoricalCrossentropy\n",
        "from keras.metrics import F1Score, Accuracy"
      ],
      "metadata": {
        "id": "bThShxg2kbXX"
      },
      "execution_count": null,
      "outputs": []
    },
    {
      "cell_type": "code",
      "source": [
        "adam = Adam(learning_rate =0.001,beta_1=0.9,beta_2=0.999)\n",
        "scce =SparseCategoricalCrossentropy()"
      ],
      "metadata": {
        "id": "x_XGo5HqkfGS"
      },
      "execution_count": null,
      "outputs": []
    },
    {
      "cell_type": "code",
      "source": [
        "model.compile(optimizer= adam,loss = scce, metrics=['accuracy'] )"
      ],
      "metadata": {
        "id": "98yrNZEHksU5"
      },
      "execution_count": null,
      "outputs": []
    },
    {
      "cell_type": "code",
      "source": [
        "history = model.fit(X_train,y_train, epochs = 20,batch_size =32,\n",
        "                    validation_data=(X_test,y_test),verbose= True )"
      ],
      "metadata": {
        "id": "A_6s4gHSkvMv",
        "outputId": "2632ad50-9383-4995-f5fd-46be30c5d52c",
        "colab": {
          "base_uri": "https://localhost:8080/"
        }
      },
      "execution_count": null,
      "outputs": [
        {
          "output_type": "stream",
          "name": "stdout",
          "text": [
            "Epoch 1/20\n",
            "1875/1875 [==============================] - 8s 4ms/step - loss: 1.0711 - accuracy: 0.6227 - val_loss: 0.4691 - val_accuracy: 0.8863\n",
            "Epoch 2/20\n",
            "1875/1875 [==============================] - 8s 4ms/step - loss: 0.7139 - accuracy: 0.7611 - val_loss: 0.4191 - val_accuracy: 0.8902\n",
            "Epoch 3/20\n",
            "1875/1875 [==============================] - 7s 4ms/step - loss: 0.6609 - accuracy: 0.7808 - val_loss: 0.3645 - val_accuracy: 0.9111\n",
            "Epoch 4/20\n",
            "1875/1875 [==============================] - 7s 4ms/step - loss: 0.6085 - accuracy: 0.8023 - val_loss: 0.3915 - val_accuracy: 0.9015\n",
            "Epoch 5/20\n",
            "1875/1875 [==============================] - 7s 4ms/step - loss: 0.5880 - accuracy: 0.8087 - val_loss: 0.3620 - val_accuracy: 0.9117\n",
            "Epoch 6/20\n",
            "1875/1875 [==============================] - 7s 3ms/step - loss: 0.5715 - accuracy: 0.8158 - val_loss: 0.3468 - val_accuracy: 0.9118\n",
            "Epoch 7/20\n",
            "1875/1875 [==============================] - 8s 4ms/step - loss: 0.5566 - accuracy: 0.8222 - val_loss: 0.3202 - val_accuracy: 0.9201\n",
            "Epoch 8/20\n",
            "1875/1875 [==============================] - 7s 4ms/step - loss: 0.5494 - accuracy: 0.8220 - val_loss: 0.3480 - val_accuracy: 0.9131\n",
            "Epoch 9/20\n",
            "1875/1875 [==============================] - 7s 3ms/step - loss: 0.5311 - accuracy: 0.8271 - val_loss: 0.3235 - val_accuracy: 0.9167\n",
            "Epoch 10/20\n",
            "1875/1875 [==============================] - 7s 4ms/step - loss: 0.5210 - accuracy: 0.8310 - val_loss: 0.3285 - val_accuracy: 0.9179\n",
            "Epoch 11/20\n",
            "1875/1875 [==============================] - 7s 4ms/step - loss: 0.5135 - accuracy: 0.8297 - val_loss: 0.3554 - val_accuracy: 0.9110\n",
            "Epoch 12/20\n",
            "1875/1875 [==============================] - 7s 4ms/step - loss: 0.5059 - accuracy: 0.8352 - val_loss: 0.3410 - val_accuracy: 0.9167\n",
            "Epoch 13/20\n",
            "1875/1875 [==============================] - 8s 4ms/step - loss: 0.4992 - accuracy: 0.8400 - val_loss: 0.3289 - val_accuracy: 0.9184\n",
            "Epoch 14/20\n",
            "1875/1875 [==============================] - 7s 4ms/step - loss: 0.4910 - accuracy: 0.8410 - val_loss: 0.3188 - val_accuracy: 0.9176\n",
            "Epoch 15/20\n",
            "1875/1875 [==============================] - 8s 4ms/step - loss: 0.4887 - accuracy: 0.8406 - val_loss: 0.3313 - val_accuracy: 0.9172\n",
            "Epoch 16/20\n",
            "1875/1875 [==============================] - 7s 4ms/step - loss: 0.4800 - accuracy: 0.8408 - val_loss: 0.3159 - val_accuracy: 0.9209\n",
            "Epoch 17/20\n",
            "1875/1875 [==============================] - 7s 4ms/step - loss: 0.4788 - accuracy: 0.8423 - val_loss: 0.3349 - val_accuracy: 0.9131\n",
            "Epoch 18/20\n",
            "1875/1875 [==============================] - 7s 4ms/step - loss: 0.4754 - accuracy: 0.8460 - val_loss: 0.3504 - val_accuracy: 0.9155\n",
            "Epoch 19/20\n",
            "1875/1875 [==============================] - 7s 4ms/step - loss: 0.4659 - accuracy: 0.8492 - val_loss: 0.3596 - val_accuracy: 0.9093\n",
            "Epoch 20/20\n",
            "1875/1875 [==============================] - 7s 4ms/step - loss: 0.4628 - accuracy: 0.8493 - val_loss: 0.3357 - val_accuracy: 0.9168\n"
          ]
        }
      ]
    },
    {
      "cell_type": "code",
      "source": [
        "plt.plot(history.history['loss'])\n",
        "plt.plot(history.history['val_loss']);"
      ],
      "metadata": {
        "id": "QoVIDF8Ckxdx",
        "colab": {
          "base_uri": "https://localhost:8080/",
          "height": 431
        },
        "outputId": "606a21b9-f91e-402e-ce4d-a1e9f1ea2c29"
      },
      "execution_count": null,
      "outputs": [
        {
          "output_type": "display_data",
          "data": {
            "text/plain": [
              "<Figure size 640x480 with 1 Axes>"
            ],
            "image/png": "[encoded data removed]"
          },
          "metadata": {}
        }
      ]
    },
    {
      "cell_type": "markdown",
      "source": [
        "## Result for these parameters:\n",
        "*   Learning_rate:0.001\n",
        "*   epoch:20\n",
        "*   Layers:32-dr-64-dr-32-dr\n",
        "*   acc: 0.8493  ,loss:0.4628  ,val_loss:0.3357, val_acc:0.9168\n",
        "\n",
        "Based on the new plot and the results ,the addition of dropout seems to have helped with overfitting. The validation loss appears to be consistently lower than the training loss, and there isn't a significant divergence between the two as the number of epochs increases. This indicates that the model is generalizing better to the unseen validation data.\n",
        "\n",
        "The results showing a final training loss of 0.4628 and a validation loss of 0.3357 with accuracies of 84.93% and 91.68% for training and validation, respectively, suggest that the model is not overfitting, as the validation accuracy is actually higher than the training accuracy. However, the fact that the training loss is higher than the validation loss might suggest that the model could be underfitting.\n",
        "\n",
        "Here are a few suggestions to potentially improve your model further:\n",
        "\n",
        "1-Adjust Dropout Rate: A dropout rate of 0.5 is quite aggressive and might be causing underfitting. Consider reducing the dropout rate to a lower value, such as 0.3 or 0.2, and observe the impact on both training and validation loss.\n",
        "\n",
        "2-Increase Model Capacity: If reducing the dropout doesn't lead to overfitting, you might want to increase the capacity of your model (i.e., adding more neurons or layers) to capture more complex patterns in the data.\n",
        "\n",
        "3-Fine-Tune the Learning Rate: While the learning rate of 0.001 has helped mitigate overfitting, there might be room for optimization. Consider using learning rate scheduling or try a few different fixed learning rates to find the best fit.\n",
        "\n",
        "4-Increase Epochs: Given that the validation loss is still decreasing, you could train for more epochs until the validation loss plateaus or starts to increase, which would be the point of overfitting.\n",
        "\n",
        "5-Experiment with Batch Size: Changing the batch size can have a significant effect on the training dynamics. A smaller batch size often results in better generalization.\n",
        "\n",
        "6-Data Preprocessing: If not already done, ensure that your data is properly normalized or standardized to help the training process.\n",
        "\n",
        "7-Advanced Regularization Techniques: Besides dropout, you could experiment with other regularization methods like batch normalization or layer normalization.\n",
        "\n",
        "8-Cross-validation: Use k-fold cross-validation to better estimate model performance and ensure that your results are consistent across different data splits."
      ],
      "metadata": {
        "id": "m_zjvmHUxf9e"
      }
    },
    {
      "cell_type": "markdown",
      "source": [
        "## 2-Adjust Dropout Rate & Increase Epochs & Increase Model Capacity"
      ],
      "metadata": {
        "id": "DD_ACprsy0fu"
      }
    },
    {
      "cell_type": "code",
      "source": [
        "from tensorflow.keras.models import Model\n",
        "from tensorflow.keras.layers import Dense, Input,Dropout"
      ],
      "metadata": {
        "id": "Er1UPoG_zUg9"
      },
      "execution_count": null,
      "outputs": []
    },
    {
      "cell_type": "code",
      "source": [
        "input_layer = Input(shape=(1024,) , name = 'input_layer')\n",
        "Layer_1 = Dense(128, activation = 'relu',name = 'Layer_1')(input_layer)\n",
        "Dropout_1 = Dropout(0.5,name ='Dropout_1')(Layer_1)\n",
        "Layer_2 =Dense(128, activation ='relu',name = 'Layer_2')(Dropout_1)\n",
        "Dropout_2 = Dropout(0.5, name='Dropout_2')(Layer_2)\n",
        "Layer_3 = Dense(64, activation = 'relu',name = 'Layer_3')(Dropout_2)\n",
        "Dropout_3 = Dropout(0.5,name='Dropout_3')(Layer_3)\n",
        "output = Dense(10 ,activation = 'softmax' ,name = 'output')(Dropout_3)\n",
        "model = Model(inputs = input_layer ,outputs = output)"
      ],
      "metadata": {
        "id": "f5vXFbwC0a9O"
      },
      "execution_count": null,
      "outputs": []
    },
    {
      "cell_type": "code",
      "source": [
        "model.summary()"
      ],
      "metadata": {
        "colab": {
          "base_uri": "https://localhost:8080/"
        },
        "id": "HldTYL5b07GW",
        "outputId": "f60b862e-053c-4ff1-f372-38447aae1ea4"
      },
      "execution_count": null,
      "outputs": [
        {
          "output_type": "stream",
          "name": "stdout",
          "text": [
            "Model: \"model_3\"\n",
            "_________________________________________________________________\n",
            " Layer (type)                Output Shape              Param #   \n",
            "=================================================================\n",
            " input_layer (InputLayer)    [(None, 1024)]            0         \n",
            "                                                                 \n",
            " Layer_1 (Dense)             (None, 128)               131200    \n",
            "                                                                 \n",
            " Dropout_1 (Dropout)         (None, 128)               0         \n",
            "                                                                 \n",
            " Layer_2 (Dense)             (None, 128)               16512     \n",
            "                                                                 \n",
            " Dropout_2 (Dropout)         (None, 128)               0         \n",
            "                                                                 \n",
            " Layer_3 (Dense)             (None, 64)                8256      \n",
            "                                                                 \n",
            " Dropout_3 (Dropout)         (None, 64)                0         \n",
            "                                                                 \n",
            " output (Dense)              (None, 10)                650       \n",
            "                                                                 \n",
            "=================================================================\n",
            "Total params: 156618 (611.79 KB)\n",
            "Trainable params: 156618 (611.79 KB)\n",
            "Non-trainable params: 0 (0.00 Byte)\n",
            "_________________________________________________________________\n"
          ]
        }
      ]
    },
    {
      "cell_type": "code",
      "source": [
        "from keras.optimizers import Adam\n",
        "from keras.losses import SparseCategoricalCrossentropy\n",
        "from keras.metrics import F1Score, Accuracy"
      ],
      "metadata": {
        "id": "2eAbxpPQ07gC"
      },
      "execution_count": null,
      "outputs": []
    },
    {
      "cell_type": "code",
      "source": [
        "adam = Adam(learning_rate =0.0008,beta_1=0.9,beta_2=0.999)\n",
        "scce =SparseCategoricalCrossentropy()"
      ],
      "metadata": {
        "id": "LUB4fzwQ0-mW"
      },
      "execution_count": null,
      "outputs": []
    },
    {
      "cell_type": "code",
      "source": [
        "model.compile(optimizer= adam,loss = scce, metrics=['accuracy'] )"
      ],
      "metadata": {
        "id": "LDmnbAAM1DT-"
      },
      "execution_count": null,
      "outputs": []
    },
    {
      "cell_type": "code",
      "source": [
        "history = model.fit(X_train,y_train, epochs = 25,batch_size =32,\n",
        "                    validation_data=(X_test,y_test),verbose= True )"
      ],
      "metadata": {
        "colab": {
          "base_uri": "https://localhost:8080/"
        },
        "id": "3Aqa8N-L1GvF",
        "outputId": "97957c98-4ef8-4769-a27b-103c7d7264e4"
      },
      "execution_count": null,
      "outputs": [
        {
          "output_type": "stream",
          "name": "stdout",
          "text": [
            "Epoch 1/25\n",
            "1875/1875 [==============================] - 9s 4ms/step - loss: 0.5000 - accuracy: 0.8449 - val_loss: 0.2364 - val_accuracy: 0.9313\n",
            "Epoch 2/25\n",
            "1875/1875 [==============================] - 8s 4ms/step - loss: 0.2170 - accuracy: 0.9445 - val_loss: 0.2021 - val_accuracy: 0.9460\n",
            "Epoch 3/25\n",
            "1875/1875 [==============================] - 7s 4ms/step - loss: 0.1748 - accuracy: 0.9546 - val_loss: 0.1844 - val_accuracy: 0.9536\n",
            "Epoch 4/25\n",
            "1875/1875 [==============================] - 7s 4ms/step - loss: 0.1557 - accuracy: 0.9602 - val_loss: 0.1601 - val_accuracy: 0.9588\n",
            "Epoch 5/25\n",
            "1875/1875 [==============================] - 7s 4ms/step - loss: 0.1428 - accuracy: 0.9641 - val_loss: 0.1580 - val_accuracy: 0.9603\n",
            "Epoch 6/25\n",
            "1875/1875 [==============================] - 7s 4ms/step - loss: 0.1279 - accuracy: 0.9672 - val_loss: 0.1489 - val_accuracy: 0.9621\n",
            "Epoch 7/25\n",
            "1875/1875 [==============================] - 8s 4ms/step - loss: 0.1195 - accuracy: 0.9690 - val_loss: 0.1318 - val_accuracy: 0.9661\n",
            "Epoch 8/25\n",
            "1875/1875 [==============================] - 7s 4ms/step - loss: 0.1147 - accuracy: 0.9707 - val_loss: 0.1405 - val_accuracy: 0.9634\n",
            "Epoch 9/25\n",
            "1875/1875 [==============================] - 7s 4ms/step - loss: 0.1089 - accuracy: 0.9710 - val_loss: 0.1469 - val_accuracy: 0.9644\n",
            "Epoch 10/25\n",
            "1875/1875 [==============================] - 7s 4ms/step - loss: 0.1067 - accuracy: 0.9728 - val_loss: 0.1452 - val_accuracy: 0.9661\n",
            "Epoch 11/25\n",
            "1875/1875 [==============================] - 7s 4ms/step - loss: 0.1035 - accuracy: 0.9729 - val_loss: 0.1441 - val_accuracy: 0.9663\n",
            "Epoch 12/25\n",
            "1875/1875 [==============================] - 7s 4ms/step - loss: 0.1013 - accuracy: 0.9737 - val_loss: 0.1340 - val_accuracy: 0.9672\n",
            "Epoch 13/25\n",
            "1875/1875 [==============================] - 7s 4ms/step - loss: 0.0932 - accuracy: 0.9751 - val_loss: 0.1396 - val_accuracy: 0.9676\n",
            "Epoch 14/25\n",
            "1875/1875 [==============================] - 7s 4ms/step - loss: 0.0913 - accuracy: 0.9757 - val_loss: 0.1441 - val_accuracy: 0.9678\n",
            "Epoch 15/25\n",
            "1875/1875 [==============================] - 7s 4ms/step - loss: 0.0909 - accuracy: 0.9764 - val_loss: 0.1421 - val_accuracy: 0.9683\n",
            "Epoch 16/25\n",
            "1875/1875 [==============================] - 7s 4ms/step - loss: 0.0857 - accuracy: 0.9775 - val_loss: 0.1465 - val_accuracy: 0.9682\n",
            "Epoch 17/25\n",
            "1875/1875 [==============================] - 9s 5ms/step - loss: 0.0855 - accuracy: 0.9778 - val_loss: 0.1432 - val_accuracy: 0.9668\n",
            "Epoch 18/25\n",
            "1875/1875 [==============================] - 7s 4ms/step - loss: 0.0807 - accuracy: 0.9784 - val_loss: 0.1382 - val_accuracy: 0.9696\n",
            "Epoch 19/25\n",
            "1875/1875 [==============================] - 8s 4ms/step - loss: 0.0782 - accuracy: 0.9784 - val_loss: 0.1611 - val_accuracy: 0.9664\n",
            "Epoch 20/25\n",
            "1875/1875 [==============================] - 8s 4ms/step - loss: 0.0810 - accuracy: 0.9786 - val_loss: 0.1484 - val_accuracy: 0.9682\n",
            "Epoch 21/25\n",
            "1875/1875 [==============================] - 7s 4ms/step - loss: 0.0787 - accuracy: 0.9782 - val_loss: 0.1553 - val_accuracy: 0.9671\n",
            "Epoch 22/25\n",
            "1875/1875 [==============================] - 8s 4ms/step - loss: 0.0765 - accuracy: 0.9796 - val_loss: 0.1386 - val_accuracy: 0.9694\n",
            "Epoch 23/25\n",
            "1875/1875 [==============================] - 8s 4ms/step - loss: 0.0728 - accuracy: 0.9800 - val_loss: 0.1533 - val_accuracy: 0.9689\n",
            "Epoch 24/25\n",
            "1875/1875 [==============================] - 7s 4ms/step - loss: 0.0749 - accuracy: 0.9793 - val_loss: 0.1598 - val_accuracy: 0.9688\n",
            "Epoch 25/25\n",
            "1875/1875 [==============================] - 8s 4ms/step - loss: 0.0733 - accuracy: 0.9794 - val_loss: 0.1536 - val_accuracy: 0.9700\n"
          ]
        }
      ]
    },
    {
      "cell_type": "code",
      "source": [
        "plt.plot(history.history['loss'])\n",
        "plt.plot(history.history['val_loss']);"
      ],
      "metadata": {
        "colab": {
          "base_uri": "https://localhost:8080/",
          "height": 430
        },
        "id": "sWQI2rgd1Lyg",
        "outputId": "d056b424-152a-48a1-dcb3-687ea4a835ef"
      },
      "execution_count": null,
      "outputs": [
        {
          "output_type": "display_data",
          "data": {
            "text/plain": [
              "<Figure size 640x480 with 1 Axes>"
            ],
            "image/png": "[encoded data removed]"
          },
          "metadata": {}
        }
      ]
    },
    {
      "cell_type": "markdown",
      "source": [
        "## Result for these parameters:\n",
        "*   Learning_rate:0.0008\n",
        "*   epoch:25\n",
        "*   Layers:128-dr-128-dr-64-dr\n",
        "*   DropOut_rate =0.5\n",
        "*   acc: 0.9794  ,loss:0.0735  ,val_loss:0.1536, val_acc:0.97\n",
        "\n",
        "Looking at the new plot and the results, there are a couple of observations we can make:\n",
        "\n",
        "Training Loss vs. Validation Loss: The training loss has continued to decrease over the 25 epochs, indicating that the model is effectively learning from the training data. However, the validation loss seems to have plateaued and even increased slightly towards the end of the training epochs.\n",
        "\n",
        "Overfitting Signs: There's a gap between the training and validation loss, which may be a sign of overfitting. Although the accuracy is high (97.94% for training and 97.00% for validation), the increasing gap between the training loss and validation loss could become problematic if the trend continues with more training.\n",
        "\n",
        "Learning Rate and Dropout: You've adjusted the learning rate to 0.0008 and kept the dropout rate at 0.5. The learning rate seems to be okay since the training loss is steadily decreasing, but a dropout rate of 0.5 might still be high and could be contributing to the plateau in validation loss.\n",
        "\n",
        "Here are some suggestions to improve the model:\n",
        "\n",
        "1- Adjust Dropout Rate: Since you are still seeing some signs of overfitting, you could try decreasing the dropout rate slightly to see if the model can retain more information without overfitting. Values around 0.3 or 0.4 could be a good starting point.\n",
        "\n",
        "2- Early Stopping: Implement early stopping with a patience parameter to stop training when the validation loss stops improving for a certain number of epochs.\n",
        "\n",
        "3- Learning Rate Scheduling: Incorporate learning rate schedulers or reduce the learning rate on plateau. This can help the model to fine-tune the weights more effectively when it is closer to the minimum loss.\n",
        "\n",
        "4- Model Complexity: If adjusting the dropout rate and learning rate does not help, you may need to experiment with the model complexity again, either by adding more neurons to existing layers or by adding additional layers.\n",
        "\n",
        "5- Data Augmentation/Enrichment: Consider augmenting the dataset if possible, or generating synthetic data to provide the model with more varied examples.\n",
        "\n",
        "6- Batch Normalization: If not already used, consider adding batch normalization layers, which can help in stabilizing the learning process and sometimes improve performance.\n",
        "\n",
        "7- Experiment with Different Architectures: Sometimes, the architecture may not be suitable for the problem at hand. Experimenting with different architectures might yield better results."
      ],
      "metadata": {
        "id": "YhJNUn4p6Q-Q"
      }
    },
    {
      "cell_type": "markdown",
      "source": [
        "## 3- Batch Normalization & Add more Neurons"
      ],
      "metadata": {
        "id": "h2abGLDt7BfG"
      }
    },
    {
      "cell_type": "code",
      "source": [
        "from tensorflow.keras.models import Model\n",
        "from tensorflow.keras.layers import Dense, Input, Dropout, BatchNormalization,Activation"
      ],
      "metadata": {
        "id": "bzDrfD0a7qP0"
      },
      "execution_count": null,
      "outputs": []
    },
    {
      "cell_type": "code",
      "source": [
        "input_layer = Input(shape=(1024,) , name = 'input_layer')\n",
        "Layer_1 = Dense(32, activation = 'relu',name = 'Layer_1')(input_layer)\n",
        "BatchNorm_1 = BatchNormalization(name='BatchNorm_1')(Layer_1)\n",
        "Activation_1 = Activation('relu', name='Activation_1')(BatchNorm_1)\n",
        "Dropout_1 = Dropout(0.3,name ='Dropout_1')(Activation_1)\n",
        "Layer_2 =Dense(64, activation ='relu',name = 'Layer_2')(Dropout_1)\n",
        "BatchNorm_2 = BatchNormalization(name='BatchNorm_2')(Layer_2)\n",
        "Activation_2 = Activation('relu', name='Activation_2')(BatchNorm_2)\n",
        "Dropout_2 = Dropout(0.3, name='Dropout_2')(Activation_2)\n",
        "Layer_3 = Dense(64, activation = 'relu',name = 'Layer_3')(Dropout_2)\n",
        "BatchNorm_3 = BatchNormalization(name='BatchNorm_3')(Layer_3)\n",
        "Activation_3 = Activation('relu', name='Activation_3')(BatchNorm_3)\n",
        "Dropout_3 = Dropout(0.3,name='Dropout_3')(Activation_3)\n",
        "Layer_4 = Dense(64, name='Layer_4')(Dropout_3)\n",
        "BatchNorm_4 = BatchNormalization(name='BatchNorm_4')(Layer_4)\n",
        "Activation_4 = Activation('relu', name='Activation_4')(BatchNorm_4)\n",
        "Dropout_4 = Dropout(0.3, name='Dropout_4')(Activation_4)\n",
        "Layer_5 = Dense(32, name='Layer_5')(Dropout_4)\n",
        "BatchNorm_5 = BatchNormalization(name='BatchNorm_5')(Layer_5)\n",
        "Activation_5 = Activation('relu', name='Activation_5')(BatchNorm_5)\n",
        "Dropout_5 = Dropout(0.3, name='Dropout_5')(Activation_5)\n",
        "output = Dense(10, activation='softmax', name='output')(Dropout_5)\n",
        "model = Model(inputs = input_layer ,outputs = output)"
      ],
      "metadata": {
        "id": "XIhCDGAD8asu"
      },
      "execution_count": null,
      "outputs": []
    },
    {
      "cell_type": "code",
      "source": [
        "model.summary()"
      ],
      "metadata": {
        "colab": {
          "base_uri": "https://localhost:8080/"
        },
        "id": "vZQfN0tD8VCR",
        "outputId": "cd2e9928-614f-4024-efdb-5bcf488331a7"
      },
      "execution_count": null,
      "outputs": [
        {
          "output_type": "stream",
          "name": "stdout",
          "text": [
            "Model: \"model_5\"\n",
            "_________________________________________________________________\n",
            " Layer (type)                Output Shape              Param #   \n",
            "=================================================================\n",
            " input_layer (InputLayer)    [(None, 1024)]            0         \n",
            "                                                                 \n",
            " Layer_1 (Dense)             (None, 32)                32800     \n",
            "                                                                 \n",
            " BatchNorm_1 (BatchNormaliz  (None, 32)                128       \n",
            " ation)                                                          \n",
            "                                                                 \n",
            " Activation_1 (Activation)   (None, 32)                0         \n",
            "                                                                 \n",
            " Dropout_1 (Dropout)         (None, 32)                0         \n",
            "                                                                 \n",
            " Layer_2 (Dense)             (None, 64)                2112      \n",
            "                                                                 \n",
            " BatchNorm_2 (BatchNormaliz  (None, 64)                256       \n",
            " ation)                                                          \n",
            "                                                                 \n",
            " Activation_2 (Activation)   (None, 64)                0         \n",
            "                                                                 \n",
            " Dropout_2 (Dropout)         (None, 64)                0         \n",
            "                                                                 \n",
            " Layer_3 (Dense)             (None, 64)                4160      \n",
            "                                                                 \n",
            " BatchNorm_3 (BatchNormaliz  (None, 64)                256       \n",
            " ation)                                                          \n",
            "                                                                 \n",
            " Activation_3 (Activation)   (None, 64)                0         \n",
            "                                                                 \n",
            " Dropout_3 (Dropout)         (None, 64)                0         \n",
            "                                                                 \n",
            " Layer_4 (Dense)             (None, 64)                4160      \n",
            "                                                                 \n",
            " BatchNorm_4 (BatchNormaliz  (None, 64)                256       \n",
            " ation)                                                          \n",
            "                                                                 \n",
            " Activation_4 (Activation)   (None, 64)                0         \n",
            "                                                                 \n",
            " Dropout_4 (Dropout)         (None, 64)                0         \n",
            "                                                                 \n",
            " Layer_5 (Dense)             (None, 32)                2080      \n",
            "                                                                 \n",
            " BatchNorm_5 (BatchNormaliz  (None, 32)                128       \n",
            " ation)                                                          \n",
            "                                                                 \n",
            " Activation_5 (Activation)   (None, 32)                0         \n",
            "                                                                 \n",
            " Dropout_5 (Dropout)         (None, 32)                0         \n",
            "                                                                 \n",
            " output (Dense)              (None, 10)                330       \n",
            "                                                                 \n",
            "=================================================================\n",
            "Total params: 46666 (182.29 KB)\n",
            "Trainable params: 46154 (180.29 KB)\n",
            "Non-trainable params: 512 (2.00 KB)\n",
            "_________________________________________________________________\n"
          ]
        }
      ]
    },
    {
      "cell_type": "code",
      "source": [
        "from keras.optimizers import Adam\n",
        "from keras.losses import SparseCategoricalCrossentropy\n",
        "from keras.metrics import F1Score, Accuracy"
      ],
      "metadata": {
        "id": "DZTRqjud_Pii"
      },
      "execution_count": null,
      "outputs": []
    },
    {
      "cell_type": "code",
      "source": [
        "adam = Adam(learning_rate =0.0008,beta_1=0.9,beta_2=0.999)\n",
        "scce =SparseCategoricalCrossentropy()"
      ],
      "metadata": {
        "id": "5qZQnwPf_Scg"
      },
      "execution_count": null,
      "outputs": []
    },
    {
      "cell_type": "code",
      "source": [
        "model.compile(optimizer= adam,loss = scce, metrics=['accuracy'] )"
      ],
      "metadata": {
        "id": "X49j2P4r_V3A"
      },
      "execution_count": null,
      "outputs": []
    },
    {
      "cell_type": "code",
      "source": [
        "history = model.fit(X_train,y_train, epochs = 25,batch_size =32,\n",
        "                    validation_data=(X_test,y_test),verbose= True )"
      ],
      "metadata": {
        "colab": {
          "base_uri": "https://localhost:8080/"
        },
        "id": "2lsnndQW_ZLY",
        "outputId": "b4ec48b0-6d63-4363-f724-7ce62937d493"
      },
      "execution_count": null,
      "outputs": [
        {
          "output_type": "stream",
          "name": "stdout",
          "text": [
            "Epoch 1/25\n",
            "1875/1875 [==============================] - 17s 7ms/step - loss: 1.2287 - accuracy: 0.5940 - val_loss: 0.5874 - val_accuracy: 0.8033\n",
            "Epoch 2/25\n",
            "1875/1875 [==============================] - 13s 7ms/step - loss: 0.6948 - accuracy: 0.7705 - val_loss: 0.4378 - val_accuracy: 0.8397\n",
            "Epoch 3/25\n",
            "1875/1875 [==============================] - 12s 7ms/step - loss: 0.5645 - accuracy: 0.8071 - val_loss: 0.4053 - val_accuracy: 0.8431\n",
            "Epoch 4/25\n",
            "1875/1875 [==============================] - 13s 7ms/step - loss: 0.5039 - accuracy: 0.8243 - val_loss: 0.3950 - val_accuracy: 0.8504\n",
            "Epoch 5/25\n",
            "1875/1875 [==============================] - 13s 7ms/step - loss: 0.4756 - accuracy: 0.8321 - val_loss: 0.3612 - val_accuracy: 0.8548\n",
            "Epoch 6/25\n",
            "1875/1875 [==============================] - 13s 7ms/step - loss: 0.4581 - accuracy: 0.8369 - val_loss: 0.3631 - val_accuracy: 0.8553\n",
            "Epoch 7/25\n",
            "1875/1875 [==============================] - 13s 7ms/step - loss: 0.4320 - accuracy: 0.8430 - val_loss: 0.3572 - val_accuracy: 0.8548\n",
            "Epoch 8/25\n",
            "1875/1875 [==============================] - 13s 7ms/step - loss: 0.4198 - accuracy: 0.8459 - val_loss: 0.3586 - val_accuracy: 0.8579\n",
            "Epoch 9/25\n",
            "1875/1875 [==============================] - 13s 7ms/step - loss: 0.4158 - accuracy: 0.8454 - val_loss: 0.3496 - val_accuracy: 0.8556\n",
            "Epoch 10/25\n",
            "1875/1875 [==============================] - 13s 7ms/step - loss: 0.4036 - accuracy: 0.8490 - val_loss: 0.3492 - val_accuracy: 0.8544\n",
            "Epoch 11/25\n",
            "1875/1875 [==============================] - 13s 7ms/step - loss: 0.3929 - accuracy: 0.8510 - val_loss: 0.3507 - val_accuracy: 0.8532\n",
            "Epoch 12/25\n",
            "1875/1875 [==============================] - 13s 7ms/step - loss: 0.3866 - accuracy: 0.8523 - val_loss: 0.3354 - val_accuracy: 0.8597\n",
            "Epoch 13/25\n",
            "1875/1875 [==============================] - 14s 7ms/step - loss: 0.3814 - accuracy: 0.8538 - val_loss: 0.3535 - val_accuracy: 0.8552\n",
            "Epoch 14/25\n",
            "1875/1875 [==============================] - 12s 7ms/step - loss: 0.3722 - accuracy: 0.8556 - val_loss: 0.3334 - val_accuracy: 0.8599\n",
            "Epoch 15/25\n",
            "1875/1875 [==============================] - 12s 7ms/step - loss: 0.3725 - accuracy: 0.8561 - val_loss: 0.3279 - val_accuracy: 0.8598\n",
            "Epoch 16/25\n",
            "1875/1875 [==============================] - 13s 7ms/step - loss: 0.3634 - accuracy: 0.8629 - val_loss: 0.3115 - val_accuracy: 0.8908\n",
            "Epoch 17/25\n",
            "1875/1875 [==============================] - 12s 7ms/step - loss: 0.3384 - accuracy: 0.8981 - val_loss: 0.2621 - val_accuracy: 0.9220\n",
            "Epoch 18/25\n",
            "1875/1875 [==============================] - 13s 7ms/step - loss: 0.3139 - accuracy: 0.9108 - val_loss: 0.2480 - val_accuracy: 0.9306\n",
            "Epoch 19/25\n",
            "1875/1875 [==============================] - 13s 7ms/step - loss: 0.3116 - accuracy: 0.9158 - val_loss: 0.2393 - val_accuracy: 0.9355\n",
            "Epoch 20/25\n",
            "1875/1875 [==============================] - 13s 7ms/step - loss: 0.2871 - accuracy: 0.9266 - val_loss: 0.2307 - val_accuracy: 0.9365\n",
            "Epoch 21/25\n",
            "1875/1875 [==============================] - 13s 7ms/step - loss: 0.2788 - accuracy: 0.9292 - val_loss: 0.2354 - val_accuracy: 0.9374\n",
            "Epoch 22/25\n",
            "1875/1875 [==============================] - 13s 7ms/step - loss: 0.2793 - accuracy: 0.9324 - val_loss: 0.2292 - val_accuracy: 0.9388\n",
            "Epoch 23/25\n",
            "1875/1875 [==============================] - 13s 7ms/step - loss: 0.2741 - accuracy: 0.9330 - val_loss: 0.2234 - val_accuracy: 0.9403\n",
            "Epoch 24/25\n",
            "1875/1875 [==============================] - 13s 7ms/step - loss: 0.2647 - accuracy: 0.9350 - val_loss: 0.2245 - val_accuracy: 0.9399\n",
            "Epoch 25/25\n",
            "1875/1875 [==============================] - 13s 7ms/step - loss: 0.2659 - accuracy: 0.9359 - val_loss: 0.2198 - val_accuracy: 0.9408\n"
          ]
        }
      ]
    },
    {
      "cell_type": "code",
      "source": [
        "plt.plot(history.history['loss'])\n",
        "plt.plot(history.history['val_loss']);"
      ],
      "metadata": {
        "colab": {
          "base_uri": "https://localhost:8080/",
          "height": 430
        },
        "id": "o0cS1Dxc_cDH",
        "outputId": "307e9859-7147-4d9c-b98e-ebaebac0c917"
      },
      "execution_count": null,
      "outputs": [
        {
          "output_type": "display_data",
          "data": {
            "text/plain": [
              "<Figure size 640x480 with 1 Axes>"
            ],
            "image/png": "[encoded data removed]"
          },
          "metadata": {}
        }
      ]
    },
    {
      "cell_type": "markdown",
      "source": [
        "## Result for these parameters:\n",
        "*   Learning_rate:0.0008\n",
        "*   epoch:25\n",
        "*   Layers:32-bn-af-dr-64-bn-af-dr64-bn-af-dr64-bn-af-dr-32-bn-af-dr\n",
        "*   DropOut_rate =0.3\n",
        "*   acc: 0.9359  ,loss:0.2659  ,val_loss:0.2198, val_acc:0.9408\n",
        "\n",
        "The results and the plot indicate that the model is improving over time without clear signs of overfitting, as the validation loss is decreasing alongside the training loss.\n",
        "\n",
        "The training seems to progress well with the following observations:\n",
        "\n",
        "Both the training and validation loss are decreasing, which is a good sign of learning.\n",
        "The validation loss has moments where it plateaus or slightly increases but overall trends downward, suggesting that the model has not yet overfit.\n",
        "The accuracy is improving significantly over epochs, reaching over 93% on both training and validation sets, which is excellent.\n",
        "Given these points, here are a few suggestions you might consider going forward:\n",
        "\n",
        "Learning Rate Scheduling: You might benefit from implementing learning rate schedulers that can adjust the learning rate during training, such as reducing it when the validation loss plateaus.\n",
        "\n",
        "Early Stopping: To ensure that you don't start overfitting if you continue to train for more epochs, consider implementing early stopping with a patience parameter that stops training when the validation loss does not improve for a given number of epochs.\n",
        "\n",
        "Refinement of Dropout: The dropout rate of 0.3 seems to be working well, but you can always try fine-tuning it (either up or down) to see if it results in better performance.\n",
        "\n",
        "Model Complexity: Since the model is performing well, you might not need to increase complexity by adding more layers. However, if you want to experiment, you could add one more dense layer and see if that helps the model capture more complex patterns without overfitting.\n",
        "\n",
        "Further Training: It seems that your model could benefit from more training since the validation loss is still decreasing. You can continue training for more epochs until you see clear signs of overfitting (an increase in validation loss) or until the validation loss plateaus.\n",
        "\n",
        "Model Evaluation: To further evaluate model performance, consider looking at other metrics such as precision, recall, and the F1 score, especially if you're dealing with an imbalanced dataset.\n",
        "\n",
        "Data Augmentation: If your data allows for it, you could generate more training samples through data augmentation techniques, which can sometimes help improve the model's generalization capabilities."
      ],
      "metadata": {
        "id": "m-kaGQPxCayR"
      }
    },
    {
      "cell_type": "code",
      "source": [],
      "metadata": {
        "id": "aIf_babVDieE"
      },
      "execution_count": null,
      "outputs": []
    }
  ],
  "metadata": {
    "colab": {
      "provenance": [],
      "gpuType": "T4",
      "include_colab_link": true
    },
    "kernelspec": {
      "display_name": "Python 3",
      "name": "python3"
    },
    "accelerator": "GPU"
  },
  "nbformat": 4,
  "nbformat_minor": 0
}