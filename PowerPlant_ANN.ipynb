{
  "cells": [
    {
      "cell_type": "markdown",
      "metadata": {
        "id": "view-in-github",
        "colab_type": "text"
      },
      "source": [
        "<a href=\"https://colab.research.google.com/github/fay421/Deep_Learning/blob/main/PowerPlant_ANN.ipynb\" target=\"_parent\"><img src=\"https://colab.research.google.com/assets/colab-badge.svg\" alt=\"Open In Colab\"/></a>"
      ]
    },
    {
      "cell_type": "markdown",
      "source": [
        "## Predicting Energy Output and Exhaust Vacuum for a Power Plant by using ANN"
      ],
      "metadata": {
        "id": "_xGorJ7MnK0n"
      }
    },
    {
      "cell_type": "markdown",
      "source": [
        "## About ANN:"
      ],
      "metadata": {
        "id": "n-5-I3Zun0EV"
      }
    },
    {
      "cell_type": "markdown",
      "source": [
        "## The steps involved in training an Artificial Neural Network (ANN) condensed into 4 main steps:\n",
        "\n",
        "\n",
        "1.   Data Preparation and Preprocessing:\n",
        "\n",
        "*   Gather and preprocess your dataset, ensuring it's well-suited for training the neural network. This involves cleaning the data, handling missing values, and encoding categorical variables if necessary.\n",
        "*   Split the data into training and testing sets to evaluate the performance of the trained model.\n",
        "2.   Model Definition and Initialization:\n",
        "\n",
        "*   Design the architecture of your neural network, including the number of layers, the number of neurons in each layer, and the activation functions used in each layer.\n",
        "*   Initialize the weights and biases of the neural network. This can be done randomly or using specific initialization techniques like Xavier or He initialization.\n",
        "\n",
        "3.   Training the Model:\n",
        "\n",
        "*   Feed the training data through the network (forward propagation) to generate predictions.\n",
        "*   Compare the predictions with the actual target values and compute a loss function that quantifies the difference between them.\n",
        "*   Use backpropagation to calculate the gradients of the loss function with respect to the model parameters (weights and biases).\n",
        "*   Update the weights and biases using an optimization algorithm (e.g., stochastic gradient descent) to minimize the loss function. This process iterates over multiple epochs until the model converges to a satisfactory solution.\n",
        "\n",
        "4.   Model Evaluation and Deployment:\n",
        "\n",
        "*   Evaluate the trained model using the testing data to assess its performance on unseen examples. Calculate metrics such as accuracy, precision, recall, or mean squared error depending on the nature of the problem.\n",
        "*   Fine-tune hyperparameters if necessary to improve the model's performance.\n",
        "*   Once satisfied with the model's performance, deploy it for making predictions on new data. This could involve integrating the model into an application or serving it through an API.\n",
        "\n",
        "\n",
        "\n",
        "\n",
        "\n",
        "\n"
      ],
      "metadata": {
        "id": "nJEKq6d2l07P"
      }
    },
    {
      "cell_type": "markdown",
      "source": [
        "#Sequential Vs Functional API in Keras\n",
        "\n",
        "* Neural networks are very complex in architecture and computationally expensive.\n",
        "\n",
        "* Luckily we have Keras, a deep learning API written in Python running on top of Tensorflow, that makes our work of building complex neural networks much easier.\n",
        "\n",
        "* Keras offers two ways to build neural networks:\n",
        "  - *Sequential API*: Here we create the model layer-by-layer. It is very simple and easy to use. But sharing of layers or branching of layers is not allowed. Also, you can’t have multiple inputs or outputs.\n",
        "  - *Functional API*: It is more flexible than the sequential API. It is more powerful than the sequential API in the sense branching or sharing of layers is allowed here. Also it can have multiple inputs and outputs."
      ],
      "metadata": {
        "id": "G-2RLxQtoEqF"
      }
    },
    {
      "cell_type": "markdown",
      "source": [
        "## Sequential API:\n",
        "\n",
        "###Import Liberies"
      ],
      "metadata": {
        "id": "pmmfTtuCoxb_"
      }
    },
    {
      "cell_type": "code",
      "execution_count": null,
      "metadata": {
        "id": "lIYdn1woOS1n"
      },
      "outputs": [],
      "source": [
        "from tensorflow.keras.models import Sequential\n",
        "from tensorflow.keras.layers import Dense, Activation\n",
        "from tensorflow.keras.optimizers import Adam"
      ]
    },
    {
      "cell_type": "markdown",
      "source": [
        "## Step 1 :\n",
        "### Create the Model"
      ],
      "metadata": {
        "id": "pJxMwS5qp-Pg"
      }
    },
    {
      "cell_type": "code",
      "source": [
        "model = Sequential()\n",
        "model.add(Dense(4,activation = 'relu'))\n",
        "model.add(Dense(4,activation = 'relu'))\n",
        "model.add(Dense(1))"
      ],
      "metadata": {
        "id": "qxdLoPSkqAbZ"
      },
      "execution_count": null,
      "outputs": []
    },
    {
      "cell_type": "markdown",
      "source": [
        "## Step 2 :\n",
        "### Compile the Model"
      ],
      "metadata": {
        "id": "4UD30Wx5q3O_"
      }
    },
    {
      "cell_type": "code",
      "source": [
        "model.compile(optimizer='adam',loss = 'mse')"
      ],
      "metadata": {
        "id": "vkMAmtjcq6Ez"
      },
      "execution_count": null,
      "outputs": []
    },
    {
      "cell_type": "markdown",
      "source": [
        "## Step 3:\n",
        "### Train the Model"
      ],
      "metadata": {
        "id": "Yq9_HLobsUZQ"
      }
    },
    {
      "cell_type": "code",
      "source": [
        "model.fit(x=X_train,y=y_train,\n",
        "          validation_data=(X_test,y_test),\n",
        "          bach_size=128,epoch=400)"
      ],
      "metadata": {
        "id": "VjQ3CLjOsqpc"
      },
      "execution_count": null,
      "outputs": []
    },
    {
      "cell_type": "markdown",
      "source": [
        "## Functional API:\n",
        "### Import Liberies"
      ],
      "metadata": {
        "id": "b0b547E0tg_3"
      }
    },
    {
      "cell_type": "code",
      "source": [
        "from tensorflow.keras.models import Model\n",
        "from tensorflow.keras.layers import Input, Dense"
      ],
      "metadata": {
        "id": "XuzoNxO1tjFW"
      },
      "execution_count": null,
      "outputs": []
    },
    {
      "cell_type": "markdown",
      "source": [
        "## Step 1 :\n",
        "### Create the Model"
      ],
      "metadata": {
        "id": "JzZb4iRDwqEI"
      }
    },
    {
      "cell_type": "code",
      "source": [
        "input_layer=Input(shape=(3,))\n",
        "Layer_1 = Dense(4,activation='relu')(input_layer)\n",
        "Layer_2 = Dense(4,activation='relu')(Layer_1)\n",
        "output_layer = Dense(1, activation='linear')(Layer_2)\n",
        "model = Model(inputs=input_layer,outputs=input_layer)"
      ],
      "metadata": {
        "id": "MyQPfG5ewiXx"
      },
      "execution_count": null,
      "outputs": []
    },
    {
      "cell_type": "markdown",
      "source": [
        "## Step 2:\n",
        "### Compile the Model"
      ],
      "metadata": {
        "id": "HFC28iOkyZKF"
      }
    },
    {
      "cell_type": "code",
      "source": [
        "model.compile(optimizer= 'adam',loss= 'mse')"
      ],
      "metadata": {
        "id": "I5LIwLQvygDX"
      },
      "execution_count": null,
      "outputs": []
    },
    {
      "cell_type": "markdown",
      "source": [
        "## Step 3 :\n",
        "### Train the Model"
      ],
      "metadata": {
        "id": "AaX2iwR6y1NO"
      }
    },
    {
      "cell_type": "code",
      "source": [
        "model.fit(X_train,y_train,epoch = 400,bach_size= 128, validation_data=(X_test,y_test))"
      ],
      "metadata": {
        "id": "h15LzDdnzhRG"
      },
      "execution_count": null,
      "outputs": []
    },
    {
      "cell_type": "markdown",
      "source": [
        "## About Dataset:  Power Plant\n",
        "\n",
        "The dataset contains 9568 data points collected from a Combined Cycle Power Plant over 6 years (2006-2011) when the power plant was set to work with a full load. A combined-cycle power plant (CCPP) is composed of gas turbines (GT), steam turbines (ST) and heat recovery steam generators. In a CCPP, the electricity is generated by gas and steam turbines, which are combined in one cycle, and is transferred from one turbine to another. While the Vacuum is collected from and has an effect on the Steam Turbine, the other three of the ambient variables affect the GT performance.\n",
        "\n",
        "Features consist of hourly average ambient variables\n",
        "\n",
        "\n",
        "*   Temperature (T) in the range 1.81°C and 37.11°C.\n",
        "*   Ambient Pressure (AP) in the range 992.89-1033.30 millibar.\n",
        "*   Relative Humidity (RH) in the range 25.56% to 100.16%.\n",
        "*   Exhaust Vacuum (V) in the range 25.36-81.56 cm Hg.\n",
        "*   Net hourly electrical energy output (PE) 420.26-495.76 MW.\n",
        "\n",
        "Let’s build a neural network using functional API to predict Net hourly electrical energy output (PE) and Exhaust Vacuum (V) with Temperature (T), Ambient Pressure (AP) and Relative Humidity (RH) as inputs."
      ],
      "metadata": {
        "id": "gAUHEe8R1DzZ"
      }
    },
    {
      "cell_type": "markdown",
      "source": [
        "## Get Dataset:\n",
        "https://archive.ics.uci.edu/static/public/294/combined+cycle+power+plant.zip"
      ],
      "metadata": {
        "id": "EdAIi4OL0M4g"
      }
    },
    {
      "cell_type": "code",
      "source": [
        "!wget https://archive.ics.uci.edu/static/public/294/combined+cycle+power+plant.zip"
      ],
      "metadata": {
        "id": "CnwmmNbe0Rg7",
        "outputId": "eb7db020-e081-440c-88e5-b3e65e787208",
        "colab": {
          "base_uri": "https://localhost:8080/"
        }
      },
      "execution_count": 2,
      "outputs": [
        {
          "output_type": "stream",
          "name": "stdout",
          "text": [
            "--2024-02-26 01:55:33--  https://archive.ics.uci.edu/static/public/294/combined+cycle+power+plant.zip\n",
            "Resolving archive.ics.uci.edu (archive.ics.uci.edu)... 128.195.10.252\n",
            "Connecting to archive.ics.uci.edu (archive.ics.uci.edu)|128.195.10.252|:443... connected.\n",
            "HTTP request sent, awaiting response... 200 OK\n",
            "Length: unspecified\n",
            "Saving to: ‘combined+cycle+power+plant.zip’\n",
            "\n",
            "combined+cycle+powe     [    <=>             ]   3.50M  3.03MB/s    in 1.2s    \n",
            "\n",
            "2024-02-26 01:55:35 (3.03 MB/s) - ‘combined+cycle+power+plant.zip’ saved [3674852]\n",
            "\n"
          ]
        }
      ]
    },
    {
      "cell_type": "code",
      "source": [
        "!unzip combined+cycle+power+plant.zip"
      ],
      "metadata": {
        "id": "ZxA8bGGv0X84",
        "outputId": "5027c037-974f-45ad-eda1-13a72913bf0b",
        "colab": {
          "base_uri": "https://localhost:8080/"
        }
      },
      "execution_count": 3,
      "outputs": [
        {
          "output_type": "stream",
          "name": "stdout",
          "text": [
            "Archive:  combined+cycle+power+plant.zip\n",
            "   creating: CCPP/\n",
            "  inflating: CCPP/Folds5x2_pp.ods    \n",
            "  inflating: CCPP/Folds5x2_pp.xlsx   \n",
            "  inflating: CCPP/Readme.txt         \n",
            "  inflating: CCPP/Readme.txt~        \n"
          ]
        }
      ]
    },
    {
      "cell_type": "markdown",
      "source": [
        "## Import Libraries:"
      ],
      "metadata": {
        "id": "OWG7jCID2IPI"
      }
    },
    {
      "cell_type": "code",
      "source": [
        "import numpy as np\n",
        "import pandas as pd\n",
        "import tensorflow as tf\n",
        "from sklearn.model_selection import train_test_split\n",
        "from sklearn.preprocessing import MinMaxScaler\n",
        "from sklearn.metrics import r2_score\n",
        "import matplotlib.pyplot as plt\n",
        "import warnings\n",
        "warnings.filterwarnings('ignore')"
      ],
      "metadata": {
        "id": "yRoC8nCt2LEJ"
      },
      "execution_count": 4,
      "outputs": []
    },
    {
      "cell_type": "markdown",
      "source": [
        "## Create a DataFrame"
      ],
      "metadata": {
        "id": "aLluyKlu06_w"
      }
    },
    {
      "cell_type": "code",
      "source": [
        "df = pd.read_excel('/content/CCPP/Folds5x2_pp.xlsx')"
      ],
      "metadata": {
        "id": "r6NjnDpQ2gyT"
      },
      "execution_count": 5,
      "outputs": []
    },
    {
      "cell_type": "code",
      "source": [
        "df.head()"
      ],
      "metadata": {
        "id": "WNisRsaR2kOh",
        "outputId": "535359aa-ef4f-45ae-c0c5-bf4f62700d02",
        "colab": {
          "base_uri": "https://localhost:8080/",
          "height": 206
        }
      },
      "execution_count": 6,
      "outputs": [
        {
          "output_type": "execute_result",
          "data": {
            "text/plain": [
              "      AT      V       AP     RH      PE\n",
              "0  14.96  41.76  1024.07  73.17  463.26\n",
              "1  25.18  62.96  1020.04  59.08  444.37\n",
              "2   5.11  39.40  1012.16  92.14  488.56\n",
              "3  20.86  57.32  1010.24  76.64  446.48\n",
              "4  10.82  37.50  1009.23  96.62  473.90"
            ],
            "text/html": [
              "\n",
              "  <div id=\"df-1aa2c9e2-df23-4b0a-a94d-25967d418a0c\" class=\"colab-df-container\">\n",
              "    <div>\n",
              "<style scoped>\n",
              "    .dataframe tbody tr th:only-of-type {\n",
              "        vertical-align: middle;\n",
              "    }\n",
              "\n",
              "    .dataframe tbody tr th {\n",
              "        vertical-align: top;\n",
              "    }\n",
              "\n",
              "    .dataframe thead th {\n",
              "        text-align: right;\n",
              "    }\n",
              "</style>\n",
              "<table border=\"1\" class=\"dataframe\">\n",
              "  <thead>\n",
              "    <tr style=\"text-align: right;\">\n",
              "      <th></th>\n",
              "      <th>AT</th>\n",
              "      <th>V</th>\n",
              "      <th>AP</th>\n",
              "      <th>RH</th>\n",
              "      <th>PE</th>\n",
              "    </tr>\n",
              "  </thead>\n",
              "  <tbody>\n",
              "    <tr>\n",
              "      <th>0</th>\n",
              "      <td>14.96</td>\n",
              "      <td>41.76</td>\n",
              "      <td>1024.07</td>\n",
              "      <td>73.17</td>\n",
              "      <td>463.26</td>\n",
              "    </tr>\n",
              "    <tr>\n",
              "      <th>1</th>\n",
              "      <td>25.18</td>\n",
              "      <td>62.96</td>\n",
              "      <td>1020.04</td>\n",
              "      <td>59.08</td>\n",
              "      <td>444.37</td>\n",
              "    </tr>\n",
              "    <tr>\n",
              "      <th>2</th>\n",
              "      <td>5.11</td>\n",
              "      <td>39.40</td>\n",
              "      <td>1012.16</td>\n",
              "      <td>92.14</td>\n",
              "      <td>488.56</td>\n",
              "    </tr>\n",
              "    <tr>\n",
              "      <th>3</th>\n",
              "      <td>20.86</td>\n",
              "      <td>57.32</td>\n",
              "      <td>1010.24</td>\n",
              "      <td>76.64</td>\n",
              "      <td>446.48</td>\n",
              "    </tr>\n",
              "    <tr>\n",
              "      <th>4</th>\n",
              "      <td>10.82</td>\n",
              "      <td>37.50</td>\n",
              "      <td>1009.23</td>\n",
              "      <td>96.62</td>\n",
              "      <td>473.90</td>\n",
              "    </tr>\n",
              "  </tbody>\n",
              "</table>\n",
              "</div>\n",
              "    <div class=\"colab-df-buttons\">\n",
              "\n",
              "  <div class=\"colab-df-container\">\n",
              "    <button class=\"colab-df-convert\" onclick=\"convertToInteractive('df-1aa2c9e2-df23-4b0a-a94d-25967d418a0c')\"\n",
              "            title=\"Convert this dataframe to an interactive table.\"\n",
              "            style=\"display:none;\">\n",
              "\n",
              "  <svg xmlns=\"http://www.w3.org/2000/svg\" height=\"24px\" viewBox=\"0 -960 960 960\">\n",
              "    <path d=\"M120-120v-720h720v720H120Zm60-500h600v-160H180v160Zm220 220h160v-160H400v160Zm0 220h160v-160H400v160ZM180-400h160v-160H180v160Zm440 0h160v-160H620v160ZM180-180h160v-160H180v160Zm440 0h160v-160H620v160Z\"/>\n",
              "  </svg>\n",
              "    </button>\n",
              "\n",
              "  <style>\n",
              "    .colab-df-container {\n",
              "      display:flex;\n",
              "      gap: 12px;\n",
              "    }\n",
              "\n",
              "    .colab-df-convert {\n",
              "      background-color: #E8F0FE;\n",
              "      border: none;\n",
              "      border-radius: 50%;\n",
              "      cursor: pointer;\n",
              "      display: none;\n",
              "      fill: #1967D2;\n",
              "      height: 32px;\n",
              "      padding: 0 0 0 0;\n",
              "      width: 32px;\n",
              "    }\n",
              "\n",
              "    .colab-df-convert:hover {\n",
              "      background-color: #E2EBFA;\n",
              "      box-shadow: 0px 1px 2px rgba(60, 64, 67, 0.3), 0px 1px 3px 1px rgba(60, 64, 67, 0.15);\n",
              "      fill: #174EA6;\n",
              "    }\n",
              "\n",
              "    .colab-df-buttons div {\n",
              "      margin-bottom: 4px;\n",
              "    }\n",
              "\n",
              "    [theme=dark] .colab-df-convert {\n",
              "      background-color: #3B4455;\n",
              "      fill: #D2E3FC;\n",
              "    }\n",
              "\n",
              "    [theme=dark] .colab-df-convert:hover {\n",
              "      background-color: #434B5C;\n",
              "      box-shadow: 0px 1px 3px 1px rgba(0, 0, 0, 0.15);\n",
              "      filter: drop-shadow(0px 1px 2px rgba(0, 0, 0, 0.3));\n",
              "      fill: #FFFFFF;\n",
              "    }\n",
              "  </style>\n",
              "\n",
              "    <script>\n",
              "      const buttonEl =\n",
              "        document.querySelector('#df-1aa2c9e2-df23-4b0a-a94d-25967d418a0c button.colab-df-convert');\n",
              "      buttonEl.style.display =\n",
              "        google.colab.kernel.accessAllowed ? 'block' : 'none';\n",
              "\n",
              "      async function convertToInteractive(key) {\n",
              "        const element = document.querySelector('#df-1aa2c9e2-df23-4b0a-a94d-25967d418a0c');\n",
              "        const dataTable =\n",
              "          await google.colab.kernel.invokeFunction('convertToInteractive',\n",
              "                                                    [key], {});\n",
              "        if (!dataTable) return;\n",
              "\n",
              "        const docLinkHtml = 'Like what you see? Visit the ' +\n",
              "          '<a target=\"_blank\" href=https://colab.research.google.com/notebooks/data_table.ipynb>data table notebook</a>'\n",
              "          + ' to learn more about interactive tables.';\n",
              "        element.innerHTML = '';\n",
              "        dataTable['output_type'] = 'display_data';\n",
              "        await google.colab.output.renderOutput(dataTable, element);\n",
              "        const docLink = document.createElement('div');\n",
              "        docLink.innerHTML = docLinkHtml;\n",
              "        element.appendChild(docLink);\n",
              "      }\n",
              "    </script>\n",
              "  </div>\n",
              "\n",
              "\n",
              "<div id=\"df-c0fe4cbb-c4b7-45e8-a747-e95bc29ec4ba\">\n",
              "  <button class=\"colab-df-quickchart\" onclick=\"quickchart('df-c0fe4cbb-c4b7-45e8-a747-e95bc29ec4ba')\"\n",
              "            title=\"Suggest charts\"\n",
              "            style=\"display:none;\">\n",
              "\n",
              "<svg xmlns=\"http://www.w3.org/2000/svg\" height=\"24px\"viewBox=\"0 0 24 24\"\n",
              "     width=\"24px\">\n",
              "    <g>\n",
              "        <path d=\"M19 3H5c-1.1 0-2 .9-2 2v14c0 1.1.9 2 2 2h14c1.1 0 2-.9 2-2V5c0-1.1-.9-2-2-2zM9 17H7v-7h2v7zm4 0h-2V7h2v10zm4 0h-2v-4h2v4z\"/>\n",
              "    </g>\n",
              "</svg>\n",
              "  </button>\n",
              "\n",
              "<style>\n",
              "  .colab-df-quickchart {\n",
              "      --bg-color: #E8F0FE;\n",
              "      --fill-color: #1967D2;\n",
              "      --hover-bg-color: #E2EBFA;\n",
              "      --hover-fill-color: #174EA6;\n",
              "      --disabled-fill-color: #AAA;\n",
              "      --disabled-bg-color: #DDD;\n",
              "  }\n",
              "\n",
              "  [theme=dark] .colab-df-quickchart {\n",
              "      --bg-color: #3B4455;\n",
              "      --fill-color: #D2E3FC;\n",
              "      --hover-bg-color: #434B5C;\n",
              "      --hover-fill-color: #FFFFFF;\n",
              "      --disabled-bg-color: #3B4455;\n",
              "      --disabled-fill-color: #666;\n",
              "  }\n",
              "\n",
              "  .colab-df-quickchart {\n",
              "    background-color: var(--bg-color);\n",
              "    border: none;\n",
              "    border-radius: 50%;\n",
              "    cursor: pointer;\n",
              "    display: none;\n",
              "    fill: var(--fill-color);\n",
              "    height: 32px;\n",
              "    padding: 0;\n",
              "    width: 32px;\n",
              "  }\n",
              "\n",
              "  .colab-df-quickchart:hover {\n",
              "    background-color: var(--hover-bg-color);\n",
              "    box-shadow: 0 1px 2px rgba(60, 64, 67, 0.3), 0 1px 3px 1px rgba(60, 64, 67, 0.15);\n",
              "    fill: var(--button-hover-fill-color);\n",
              "  }\n",
              "\n",
              "  .colab-df-quickchart-complete:disabled,\n",
              "  .colab-df-quickchart-complete:disabled:hover {\n",
              "    background-color: var(--disabled-bg-color);\n",
              "    fill: var(--disabled-fill-color);\n",
              "    box-shadow: none;\n",
              "  }\n",
              "\n",
              "  .colab-df-spinner {\n",
              "    border: 2px solid var(--fill-color);\n",
              "    border-color: transparent;\n",
              "    border-bottom-color: var(--fill-color);\n",
              "    animation:\n",
              "      spin 1s steps(1) infinite;\n",
              "  }\n",
              "\n",
              "  @keyframes spin {\n",
              "    0% {\n",
              "      border-color: transparent;\n",
              "      border-bottom-color: var(--fill-color);\n",
              "      border-left-color: var(--fill-color);\n",
              "    }\n",
              "    20% {\n",
              "      border-color: transparent;\n",
              "      border-left-color: var(--fill-color);\n",
              "      border-top-color: var(--fill-color);\n",
              "    }\n",
              "    30% {\n",
              "      border-color: transparent;\n",
              "      border-left-color: var(--fill-color);\n",
              "      border-top-color: var(--fill-color);\n",
              "      border-right-color: var(--fill-color);\n",
              "    }\n",
              "    40% {\n",
              "      border-color: transparent;\n",
              "      border-right-color: var(--fill-color);\n",
              "      border-top-color: var(--fill-color);\n",
              "    }\n",
              "    60% {\n",
              "      border-color: transparent;\n",
              "      border-right-color: var(--fill-color);\n",
              "    }\n",
              "    80% {\n",
              "      border-color: transparent;\n",
              "      border-right-color: var(--fill-color);\n",
              "      border-bottom-color: var(--fill-color);\n",
              "    }\n",
              "    90% {\n",
              "      border-color: transparent;\n",
              "      border-bottom-color: var(--fill-color);\n",
              "    }\n",
              "  }\n",
              "</style>\n",
              "\n",
              "  <script>\n",
              "    async function quickchart(key) {\n",
              "      const quickchartButtonEl =\n",
              "        document.querySelector('#' + key + ' button');\n",
              "      quickchartButtonEl.disabled = true;  // To prevent multiple clicks.\n",
              "      quickchartButtonEl.classList.add('colab-df-spinner');\n",
              "      try {\n",
              "        const charts = await google.colab.kernel.invokeFunction(\n",
              "            'suggestCharts', [key], {});\n",
              "      } catch (error) {\n",
              "        console.error('Error during call to suggestCharts:', error);\n",
              "      }\n",
              "      quickchartButtonEl.classList.remove('colab-df-spinner');\n",
              "      quickchartButtonEl.classList.add('colab-df-quickchart-complete');\n",
              "    }\n",
              "    (() => {\n",
              "      let quickchartButtonEl =\n",
              "        document.querySelector('#df-c0fe4cbb-c4b7-45e8-a747-e95bc29ec4ba button');\n",
              "      quickchartButtonEl.style.display =\n",
              "        google.colab.kernel.accessAllowed ? 'block' : 'none';\n",
              "    })();\n",
              "  </script>\n",
              "</div>\n",
              "\n",
              "    </div>\n",
              "  </div>\n"
            ],
            "application/vnd.google.colaboratory.intrinsic+json": {
              "type": "dataframe",
              "variable_name": "df",
              "summary": "{\n  \"name\": \"df\",\n  \"rows\": 9568,\n  \"fields\": [\n    {\n      \"column\": \"AT\",\n      \"properties\": {\n        \"dtype\": \"number\",\n        \"std\": 7.452473229611079,\n        \"min\": 1.81,\n        \"max\": 37.11,\n        \"num_unique_values\": 2773,\n        \"samples\": [\n          12.54,\n          4.49,\n          6.64\n        ],\n        \"semantic_type\": \"\",\n        \"description\": \"\"\n      }\n    },\n    {\n      \"column\": \"V\",\n      \"properties\": {\n        \"dtype\": \"number\",\n        \"std\": 12.707892998326809,\n        \"min\": 25.36,\n        \"max\": 81.56,\n        \"num_unique_values\": 634,\n        \"samples\": [\n          74.33,\n          73.67,\n          58.82\n        ],\n        \"semantic_type\": \"\",\n        \"description\": \"\"\n      }\n    },\n    {\n      \"column\": \"AP\",\n      \"properties\": {\n        \"dtype\": \"number\",\n        \"std\": 5.938783705811607,\n        \"min\": 992.89,\n        \"max\": 1033.3,\n        \"num_unique_values\": 2517,\n        \"samples\": [\n          1020.46,\n          1015.73,\n          1027.64\n        ],\n        \"semantic_type\": \"\",\n        \"description\": \"\"\n      }\n    },\n    {\n      \"column\": \"RH\",\n      \"properties\": {\n        \"dtype\": \"number\",\n        \"std\": 14.600268756728953,\n        \"min\": 25.56,\n        \"max\": 100.16,\n        \"num_unique_values\": 4546,\n        \"samples\": [\n          62.8,\n          82.33,\n          47.19\n        ],\n        \"semantic_type\": \"\",\n        \"description\": \"\"\n      }\n    },\n    {\n      \"column\": \"PE\",\n      \"properties\": {\n        \"dtype\": \"number\",\n        \"std\": 17.066994999803416,\n        \"min\": 420.26,\n        \"max\": 495.76,\n        \"num_unique_values\": 4836,\n        \"samples\": [\n          473.87,\n          475.41,\n          468.81\n        ],\n        \"semantic_type\": \"\",\n        \"description\": \"\"\n      }\n    }\n  ]\n}"
            }
          },
          "metadata": {},
          "execution_count": 6
        }
      ]
    },
    {
      "cell_type": "code",
      "source": [
        "df.shape"
      ],
      "metadata": {
        "id": "hYdwA1pV3D-M",
        "outputId": "90d0dc55-add5-4d10-a182-932fce523bf8",
        "colab": {
          "base_uri": "https://localhost:8080/"
        }
      },
      "execution_count": 7,
      "outputs": [
        {
          "output_type": "execute_result",
          "data": {
            "text/plain": [
              "(9568, 5)"
            ]
          },
          "metadata": {},
          "execution_count": 7
        }
      ]
    },
    {
      "cell_type": "markdown",
      "source": [
        "## Define 2 outputs ('V' and 'PE') for the Model"
      ],
      "metadata": {
        "id": "ZqZy_yhj4Dfg"
      }
    },
    {
      "cell_type": "code",
      "source": [
        "def get_outputs(data):\n",
        "  y1 = data.pop('PE')\n",
        "  y1 = np.array(y1)\n",
        "  y2 = data.pop('V')\n",
        "  y2 = np.array(y2)\n",
        "  return y1, y2"
      ],
      "metadata": {
        "id": "gGulEZpT3xIg"
      },
      "execution_count": 8,
      "outputs": []
    },
    {
      "cell_type": "markdown",
      "source": [
        "## Split the Model to train and test"
      ],
      "metadata": {
        "id": "9gysGBUq4jWs"
      }
    },
    {
      "cell_type": "code",
      "source": [
        "train, test =train_test_split(df, test_size=0.2, random_state = 42)"
      ],
      "metadata": {
        "id": "s6-oNEmW4i_g"
      },
      "execution_count": 9,
      "outputs": []
    },
    {
      "cell_type": "code",
      "source": [
        "y_train = get_outputs(train)\n",
        "y_test = get_outputs(test)"
      ],
      "metadata": {
        "id": "mnTN4i1x4xVX"
      },
      "execution_count": 10,
      "outputs": []
    },
    {
      "cell_type": "markdown",
      "source": [
        "## Scale the data"
      ],
      "metadata": {
        "id": "uKvUKLBn6DHJ"
      }
    },
    {
      "cell_type": "code",
      "source": [
        "min_max =MinMaxScaler()"
      ],
      "metadata": {
        "id": "tons65oF6HdN"
      },
      "execution_count": 11,
      "outputs": []
    },
    {
      "cell_type": "code",
      "source": [
        "X_train = min_max.fit_transform(train)\n",
        "X_test = min_max.transform(test)"
      ],
      "metadata": {
        "id": "RyzYyH7O6QeD"
      },
      "execution_count": 12,
      "outputs": []
    },
    {
      "cell_type": "markdown",
      "source": [
        "## Import Libraries for NN"
      ],
      "metadata": {
        "id": "8iEfmVyM7gyo"
      }
    },
    {
      "cell_type": "code",
      "source": [
        "from tensorflow.keras.models import Model\n",
        "from tensorflow.keras.layers import Dense, Input"
      ],
      "metadata": {
        "id": "wv2PlnNc7eC1"
      },
      "execution_count": 13,
      "outputs": []
    },
    {
      "cell_type": "markdown",
      "source": [
        "## Define input layer"
      ],
      "metadata": {
        "id": "byHDlSGi8v9R"
      }
    },
    {
      "cell_type": "code",
      "source": [
        "input_layer=Input(shape=(3,), name = 'input_layer')"
      ],
      "metadata": {
        "id": "Jjro49An8EhB"
      },
      "execution_count": 14,
      "outputs": []
    },
    {
      "cell_type": "markdown",
      "source": [
        "## Define hidden layer"
      ],
      "metadata": {
        "id": "0fJF484y8zEn"
      }
    },
    {
      "cell_type": "code",
      "source": [
        "Layer_1 = Dense(10,activation='relu',name = 'Layer_1')(input_layer)\n",
        "Layer_2 = Dense(10,activation='relu',name = 'Layer_2')(Layer_1)"
      ],
      "metadata": {
        "id": "9ufpJcLI8o__"
      },
      "execution_count": 15,
      "outputs": []
    },
    {
      "cell_type": "markdown",
      "source": [
        "## Define output layer 1"
      ],
      "metadata": {
        "id": "82VFz_vx9xao"
      }
    },
    {
      "cell_type": "code",
      "source": [
        "y1_output = Dense(1,activation='linear',name='y1_output')(Layer_2)"
      ],
      "metadata": {
        "id": "C6GEpFkN9wKX"
      },
      "execution_count": 16,
      "outputs": []
    },
    {
      "cell_type": "markdown",
      "source": [
        "## Define branched layer"
      ],
      "metadata": {
        "id": "TejjQ8iYC9GC"
      }
    },
    {
      "cell_type": "code",
      "source": [
        "Branched_layer = Dense(10,activation='relu',name='Branched_layer')(Layer_2)"
      ],
      "metadata": {
        "id": "Hdgm_G0KC8CK"
      },
      "execution_count": 17,
      "outputs": []
    },
    {
      "cell_type": "markdown",
      "source": [
        "## Define output layer 2"
      ],
      "metadata": {
        "id": "VA6zD8PRDdhi"
      }
    },
    {
      "cell_type": "code",
      "source": [
        "y2_output = Dense(1,activation='linear',name='y2_output')(Branched_layer)"
      ],
      "metadata": {
        "id": "GsR88U6JDc5q"
      },
      "execution_count": 18,
      "outputs": []
    },
    {
      "cell_type": "markdown",
      "source": [
        "## Define the Model and it's layers (inputs & outputs)"
      ],
      "metadata": {
        "id": "4Tz_xOZQE2Pa"
      }
    },
    {
      "cell_type": "code",
      "source": [
        "model = Model(inputs=input_layer,outputs=[y1_output,y2_output])"
      ],
      "metadata": {
        "id": "rQnltuXMEEki"
      },
      "execution_count": 19,
      "outputs": []
    },
    {
      "cell_type": "markdown",
      "source": [
        "## Get the Summary of Model"
      ],
      "metadata": {
        "id": "VRrSlALBFeiG"
      }
    },
    {
      "cell_type": "code",
      "source": [
        "model.summary()"
      ],
      "metadata": {
        "colab": {
          "base_uri": "https://localhost:8080/"
        },
        "id": "ViP77OkHFa8F",
        "outputId": "4031e37b-3b0e-46b7-9511-c70593b71c58"
      },
      "execution_count": 20,
      "outputs": [
        {
          "output_type": "stream",
          "name": "stdout",
          "text": [
            "Model: \"model\"\n",
            "__________________________________________________________________________________________________\n",
            " Layer (type)                Output Shape                 Param #   Connected to                  \n",
            "==================================================================================================\n",
            " input_layer (InputLayer)    [(None, 3)]                  0         []                            \n",
            "                                                                                                  \n",
            " Layer_1 (Dense)             (None, 10)                   40        ['input_layer[0][0]']         \n",
            "                                                                                                  \n",
            " Layer_2 (Dense)             (None, 10)                   110       ['Layer_1[0][0]']             \n",
            "                                                                                                  \n",
            " Branched_layer (Dense)      (None, 10)                   110       ['Layer_2[0][0]']             \n",
            "                                                                                                  \n",
            " y1_output (Dense)           (None, 1)                    11        ['Layer_2[0][0]']             \n",
            "                                                                                                  \n",
            " y2_output (Dense)           (None, 1)                    11        ['Branched_layer[0][0]']      \n",
            "                                                                                                  \n",
            "==================================================================================================\n",
            "Total params: 282 (1.10 KB)\n",
            "Trainable params: 282 (1.10 KB)\n",
            "Non-trainable params: 0 (0.00 Byte)\n",
            "__________________________________________________________________________________________________\n"
          ]
        }
      ]
    },
    {
      "cell_type": "markdown",
      "source": [
        "## Compile Model"
      ],
      "metadata": {
        "id": "jC1yKCVS8efP"
      }
    },
    {
      "cell_type": "code",
      "source": [
        "model.compile(optimizer = 'adam',loss = {'y1_output':'mse','y2_output':'mse'})"
      ],
      "metadata": {
        "id": "tlP8P3ivFmAv"
      },
      "execution_count": 21,
      "outputs": []
    },
    {
      "cell_type": "markdown",
      "source": [
        "## Train Model"
      ],
      "metadata": {
        "id": "FooNQS5c9Uhp"
      }
    },
    {
      "cell_type": "code",
      "source": [
        "history=model.fit(X_train,y_train,batch_size=128,epochs=300,verbose=True,validation_data=(X_test,y_test))"
      ],
      "metadata": {
        "colab": {
          "base_uri": "https://localhost:8080/"
        },
        "id": "QeNN2p-T9R9l",
        "outputId": "7c3633a9-53d9-4f6f-d4dc-1aa1422450ff"
      },
      "execution_count": 25,
      "outputs": [
        {
          "output_type": "stream",
          "name": "stdout",
          "text": [
            "Epoch 1/300\n",
            "60/60 [==============================] - 0s 6ms/step - loss: 600.4072 - y1_output_loss: 418.3454 - y2_output_loss: 182.0617 - val_loss: 582.2040 - val_y1_output_loss: 401.2593 - val_y2_output_loss: 180.9447\n",
            "Epoch 2/300\n",
            "60/60 [==============================] - 0s 6ms/step - loss: 583.9985 - y1_output_loss: 401.2866 - y2_output_loss: 182.7119 - val_loss: 567.5097 - val_y1_output_loss: 386.3900 - val_y2_output_loss: 181.1197\n",
            "Epoch 3/300\n",
            "60/60 [==============================] - 0s 6ms/step - loss: 567.5050 - y1_output_loss: 384.6624 - y2_output_loss: 182.8427 - val_loss: 549.8395 - val_y1_output_loss: 367.7841 - val_y2_output_loss: 182.0555\n",
            "Epoch 4/300\n",
            "60/60 [==============================] - 0s 6ms/step - loss: 550.6822 - y1_output_loss: 367.6697 - y2_output_loss: 183.0125 - val_loss: 533.3616 - val_y1_output_loss: 351.5123 - val_y2_output_loss: 181.8492\n",
            "Epoch 5/300\n",
            "60/60 [==============================] - 1s 8ms/step - loss: 534.3051 - y1_output_loss: 351.1736 - y2_output_loss: 183.1315 - val_loss: 517.6078 - val_y1_output_loss: 335.4873 - val_y2_output_loss: 182.1206\n",
            "Epoch 6/300\n",
            "60/60 [==============================] - 0s 8ms/step - loss: 518.3057 - y1_output_loss: 334.8542 - y2_output_loss: 183.4515 - val_loss: 501.8873 - val_y1_output_loss: 319.4424 - val_y2_output_loss: 182.4449\n",
            "Epoch 7/300\n",
            "60/60 [==============================] - 0s 8ms/step - loss: 502.7767 - y1_output_loss: 318.8804 - y2_output_loss: 183.8964 - val_loss: 486.6068 - val_y1_output_loss: 303.7613 - val_y2_output_loss: 182.8455\n",
            "Epoch 8/300\n",
            "60/60 [==============================] - 1s 8ms/step - loss: 487.2081 - y1_output_loss: 303.2329 - y2_output_loss: 183.9752 - val_loss: 471.6060 - val_y1_output_loss: 288.5572 - val_y2_output_loss: 183.0488\n",
            "Epoch 9/300\n",
            "60/60 [==============================] - 0s 8ms/step - loss: 472.1579 - y1_output_loss: 287.4878 - y2_output_loss: 184.6701 - val_loss: 456.5504 - val_y1_output_loss: 273.1183 - val_y2_output_loss: 183.4322\n",
            "Epoch 10/300\n",
            "60/60 [==============================] - 0s 7ms/step - loss: 456.5504 - y1_output_loss: 271.8617 - y2_output_loss: 184.6887 - val_loss: 442.0725 - val_y1_output_loss: 258.2914 - val_y2_output_loss: 183.7812\n",
            "Epoch 11/300\n",
            "60/60 [==============================] - 0s 6ms/step - loss: 441.5885 - y1_output_loss: 256.6919 - y2_output_loss: 184.8966 - val_loss: 428.3327 - val_y1_output_loss: 244.0589 - val_y2_output_loss: 184.2738\n",
            "Epoch 12/300\n",
            "60/60 [==============================] - 0s 6ms/step - loss: 427.3511 - y1_output_loss: 241.7408 - y2_output_loss: 185.6102 - val_loss: 413.9173 - val_y1_output_loss: 229.5705 - val_y2_output_loss: 184.3469\n",
            "Epoch 13/300\n",
            "60/60 [==============================] - 0s 6ms/step - loss: 412.6356 - y1_output_loss: 227.3103 - y2_output_loss: 185.3252 - val_loss: 401.1964 - val_y1_output_loss: 216.0685 - val_y2_output_loss: 185.1279\n",
            "Epoch 14/300\n",
            "60/60 [==============================] - 0s 5ms/step - loss: 399.6700 - y1_output_loss: 213.6831 - y2_output_loss: 185.9867 - val_loss: 387.1765 - val_y1_output_loss: 202.1874 - val_y2_output_loss: 184.9891\n",
            "Epoch 15/300\n",
            "60/60 [==============================] - 0s 6ms/step - loss: 386.1597 - y1_output_loss: 199.7370 - y2_output_loss: 186.4227 - val_loss: 374.1655 - val_y1_output_loss: 188.7139 - val_y2_output_loss: 185.4516\n",
            "Epoch 16/300\n",
            "60/60 [==============================] - 0s 5ms/step - loss: 372.9482 - y1_output_loss: 186.5161 - y2_output_loss: 186.4322 - val_loss: 361.7522 - val_y1_output_loss: 176.0136 - val_y2_output_loss: 185.7386\n",
            "Epoch 17/300\n",
            "60/60 [==============================] - 0s 6ms/step - loss: 360.5602 - y1_output_loss: 173.8574 - y2_output_loss: 186.7027 - val_loss: 349.8767 - val_y1_output_loss: 163.7740 - val_y2_output_loss: 186.1028\n",
            "Epoch 18/300\n",
            "60/60 [==============================] - 0s 6ms/step - loss: 348.8878 - y1_output_loss: 161.9399 - y2_output_loss: 186.9480 - val_loss: 339.1368 - val_y1_output_loss: 152.5639 - val_y2_output_loss: 186.5730\n",
            "Epoch 19/300\n",
            "60/60 [==============================] - 0s 6ms/step - loss: 337.4769 - y1_output_loss: 150.1204 - y2_output_loss: 187.3565 - val_loss: 328.0805 - val_y1_output_loss: 141.2737 - val_y2_output_loss: 186.8069\n",
            "Epoch 20/300\n",
            "60/60 [==============================] - 0s 6ms/step - loss: 326.2615 - y1_output_loss: 138.7621 - y2_output_loss: 187.4994 - val_loss: 318.2082 - val_y1_output_loss: 130.9288 - val_y2_output_loss: 187.2794\n",
            "Epoch 21/300\n",
            "60/60 [==============================] - 0s 6ms/step - loss: 316.5056 - y1_output_loss: 128.4865 - y2_output_loss: 188.0191 - val_loss: 307.8974 - val_y1_output_loss: 120.3465 - val_y2_output_loss: 187.5509\n",
            "Epoch 22/300\n",
            "60/60 [==============================] - 0s 6ms/step - loss: 306.7567 - y1_output_loss: 118.6610 - y2_output_loss: 188.0957 - val_loss: 299.3417 - val_y1_output_loss: 111.3097 - val_y2_output_loss: 188.0320\n",
            "Epoch 23/300\n",
            "60/60 [==============================] - 0s 5ms/step - loss: 297.6319 - y1_output_loss: 109.2170 - y2_output_loss: 188.4148 - val_loss: 290.3738 - val_y1_output_loss: 102.2684 - val_y2_output_loss: 188.1055\n",
            "Epoch 24/300\n",
            "60/60 [==============================] - 0s 5ms/step - loss: 288.8492 - y1_output_loss: 100.3132 - y2_output_loss: 188.5359 - val_loss: 282.7027 - val_y1_output_loss: 94.1075 - val_y2_output_loss: 188.5951\n",
            "Epoch 25/300\n",
            "60/60 [==============================] - 0s 5ms/step - loss: 280.9881 - y1_output_loss: 92.0498 - y2_output_loss: 188.9384 - val_loss: 274.6890 - val_y1_output_loss: 85.9040 - val_y2_output_loss: 188.7850\n",
            "Epoch 26/300\n",
            "60/60 [==============================] - 0s 6ms/step - loss: 273.7231 - y1_output_loss: 84.4532 - y2_output_loss: 189.2699 - val_loss: 267.7191 - val_y1_output_loss: 78.8207 - val_y2_output_loss: 188.8985\n",
            "Epoch 27/300\n",
            "60/60 [==============================] - 0s 6ms/step - loss: 266.8536 - y1_output_loss: 77.6285 - y2_output_loss: 189.2251 - val_loss: 261.3419 - val_y1_output_loss: 72.2110 - val_y2_output_loss: 189.1310\n",
            "Epoch 28/300\n",
            "60/60 [==============================] - 0s 5ms/step - loss: 260.8592 - y1_output_loss: 71.1692 - y2_output_loss: 189.6899 - val_loss: 255.3942 - val_y1_output_loss: 66.1175 - val_y2_output_loss: 189.2767\n",
            "Epoch 29/300\n",
            "60/60 [==============================] - 0s 5ms/step - loss: 254.5958 - y1_output_loss: 65.2338 - y2_output_loss: 189.3620 - val_loss: 250.9274 - val_y1_output_loss: 60.7820 - val_y2_output_loss: 190.1454\n",
            "Epoch 30/300\n",
            "60/60 [==============================] - 0s 5ms/step - loss: 249.6606 - y1_output_loss: 59.8806 - y2_output_loss: 189.7800 - val_loss: 245.3842 - val_y1_output_loss: 56.0339 - val_y2_output_loss: 189.3503\n",
            "Epoch 31/300\n",
            "60/60 [==============================] - 0s 5ms/step - loss: 244.9327 - y1_output_loss: 55.2554 - y2_output_loss: 189.6773 - val_loss: 241.2380 - val_y1_output_loss: 51.5237 - val_y2_output_loss: 189.7144\n",
            "Epoch 32/300\n",
            "60/60 [==============================] - 0s 6ms/step - loss: 240.7431 - y1_output_loss: 50.8965 - y2_output_loss: 189.8466 - val_loss: 236.9993 - val_y1_output_loss: 47.5317 - val_y2_output_loss: 189.4676\n",
            "Epoch 33/300\n",
            "60/60 [==============================] - 0s 5ms/step - loss: 236.8001 - y1_output_loss: 47.0661 - y2_output_loss: 189.7340 - val_loss: 234.0718 - val_y1_output_loss: 44.1580 - val_y2_output_loss: 189.9138\n",
            "Epoch 34/300\n",
            "60/60 [==============================] - 0s 5ms/step - loss: 233.8181 - y1_output_loss: 43.9022 - y2_output_loss: 189.9159 - val_loss: 230.5637 - val_y1_output_loss: 41.0326 - val_y2_output_loss: 189.5311\n",
            "Epoch 35/300\n",
            "60/60 [==============================] - 0s 6ms/step - loss: 230.5262 - y1_output_loss: 40.8337 - y2_output_loss: 189.6925 - val_loss: 227.8185 - val_y1_output_loss: 38.3034 - val_y2_output_loss: 189.5151\n",
            "Epoch 36/300\n",
            "60/60 [==============================] - 0s 6ms/step - loss: 227.8297 - y1_output_loss: 38.3748 - y2_output_loss: 189.4548 - val_loss: 225.4707 - val_y1_output_loss: 36.0178 - val_y2_output_loss: 189.4529\n",
            "Epoch 37/300\n",
            "60/60 [==============================] - 0s 6ms/step - loss: 225.3267 - y1_output_loss: 36.1260 - y2_output_loss: 189.2007 - val_loss: 223.2285 - val_y1_output_loss: 34.0060 - val_y2_output_loss: 189.2225\n",
            "Epoch 38/300\n",
            "60/60 [==============================] - 0s 5ms/step - loss: 223.3058 - y1_output_loss: 34.3773 - y2_output_loss: 188.9286 - val_loss: 221.0589 - val_y1_output_loss: 32.3391 - val_y2_output_loss: 188.7198\n",
            "Epoch 39/300\n",
            "60/60 [==============================] - 0s 8ms/step - loss: 221.3262 - y1_output_loss: 32.6480 - y2_output_loss: 188.6781 - val_loss: 219.7549 - val_y1_output_loss: 30.8169 - val_y2_output_loss: 188.9380\n",
            "Epoch 40/300\n",
            "60/60 [==============================] - 0s 7ms/step - loss: 219.5556 - y1_output_loss: 31.2841 - y2_output_loss: 188.2715 - val_loss: 218.1963 - val_y1_output_loss: 29.9837 - val_y2_output_loss: 188.2126\n",
            "Epoch 41/300\n",
            "60/60 [==============================] - 0s 8ms/step - loss: 217.8919 - y1_output_loss: 30.1384 - y2_output_loss: 187.7535 - val_loss: 216.2531 - val_y1_output_loss: 28.5646 - val_y2_output_loss: 187.6884\n",
            "Epoch 42/300\n",
            "60/60 [==============================] - 0s 8ms/step - loss: 216.4766 - y1_output_loss: 29.2870 - y2_output_loss: 187.1896 - val_loss: 214.6423 - val_y1_output_loss: 27.6784 - val_y2_output_loss: 186.9639\n",
            "Epoch 43/300\n",
            "60/60 [==============================] - 1s 9ms/step - loss: 215.0498 - y1_output_loss: 28.3844 - y2_output_loss: 186.6654 - val_loss: 213.3364 - val_y1_output_loss: 26.9343 - val_y2_output_loss: 186.4021\n",
            "Epoch 44/300\n",
            "60/60 [==============================] - 0s 7ms/step - loss: 213.7430 - y1_output_loss: 27.7852 - y2_output_loss: 185.9579 - val_loss: 211.6371 - val_y1_output_loss: 26.4111 - val_y2_output_loss: 185.2260\n",
            "Epoch 45/300\n",
            "60/60 [==============================] - 0s 6ms/step - loss: 212.0340 - y1_output_loss: 27.2577 - y2_output_loss: 184.7763 - val_loss: 210.4654 - val_y1_output_loss: 25.8901 - val_y2_output_loss: 184.5754\n",
            "Epoch 46/300\n",
            "60/60 [==============================] - 0s 6ms/step - loss: 210.8476 - y1_output_loss: 26.7428 - y2_output_loss: 184.1049 - val_loss: 208.7424 - val_y1_output_loss: 25.5775 - val_y2_output_loss: 183.1649\n",
            "Epoch 47/300\n",
            "60/60 [==============================] - 0s 6ms/step - loss: 209.0047 - y1_output_loss: 26.3467 - y2_output_loss: 182.6581 - val_loss: 207.6896 - val_y1_output_loss: 25.3127 - val_y2_output_loss: 182.3768\n",
            "Epoch 48/300\n",
            "60/60 [==============================] - 0s 6ms/step - loss: 207.5697 - y1_output_loss: 26.0955 - y2_output_loss: 181.4742 - val_loss: 205.3705 - val_y1_output_loss: 24.9439 - val_y2_output_loss: 180.4266\n",
            "Epoch 49/300\n",
            "60/60 [==============================] - 0s 5ms/step - loss: 205.7787 - y1_output_loss: 25.9525 - y2_output_loss: 179.8262 - val_loss: 203.8814 - val_y1_output_loss: 24.8106 - val_y2_output_loss: 179.0708\n",
            "Epoch 50/300\n",
            "60/60 [==============================] - 0s 5ms/step - loss: 203.6942 - y1_output_loss: 25.5853 - y2_output_loss: 178.1088 - val_loss: 201.9825 - val_y1_output_loss: 24.4613 - val_y2_output_loss: 177.5212\n",
            "Epoch 51/300\n",
            "60/60 [==============================] - 0s 5ms/step - loss: 201.6204 - y1_output_loss: 25.4093 - y2_output_loss: 176.2111 - val_loss: 199.2661 - val_y1_output_loss: 24.2438 - val_y2_output_loss: 175.0223\n",
            "Epoch 52/300\n",
            "60/60 [==============================] - 0s 6ms/step - loss: 198.9887 - y1_output_loss: 25.2133 - y2_output_loss: 173.7754 - val_loss: 196.8462 - val_y1_output_loss: 24.1618 - val_y2_output_loss: 172.6843\n",
            "Epoch 53/300\n",
            "60/60 [==============================] - 0s 6ms/step - loss: 196.7422 - y1_output_loss: 25.1390 - y2_output_loss: 171.6033 - val_loss: 193.9737 - val_y1_output_loss: 24.0967 - val_y2_output_loss: 169.8770\n",
            "Epoch 54/300\n",
            "60/60 [==============================] - 0s 5ms/step - loss: 193.4432 - y1_output_loss: 25.1628 - y2_output_loss: 168.2804 - val_loss: 191.4632 - val_y1_output_loss: 24.6648 - val_y2_output_loss: 166.7983\n",
            "Epoch 55/300\n",
            "60/60 [==============================] - 0s 5ms/step - loss: 189.8322 - y1_output_loss: 24.9895 - y2_output_loss: 164.8427 - val_loss: 187.0553 - val_y1_output_loss: 23.8483 - val_y2_output_loss: 163.2070\n",
            "Epoch 56/300\n",
            "60/60 [==============================] - 0s 6ms/step - loss: 185.7999 - y1_output_loss: 24.7722 - y2_output_loss: 161.0276 - val_loss: 182.1966 - val_y1_output_loss: 23.8104 - val_y2_output_loss: 158.3862\n",
            "Epoch 57/300\n",
            "60/60 [==============================] - 0s 5ms/step - loss: 181.1090 - y1_output_loss: 24.6790 - y2_output_loss: 156.4300 - val_loss: 177.2541 - val_y1_output_loss: 23.7184 - val_y2_output_loss: 153.5357\n",
            "Epoch 58/300\n",
            "60/60 [==============================] - 0s 5ms/step - loss: 175.7899 - y1_output_loss: 24.6276 - y2_output_loss: 151.1622 - val_loss: 171.4345 - val_y1_output_loss: 23.5041 - val_y2_output_loss: 147.9304\n",
            "Epoch 59/300\n",
            "60/60 [==============================] - 0s 6ms/step - loss: 170.1485 - y1_output_loss: 24.5540 - y2_output_loss: 145.5946 - val_loss: 165.4688 - val_y1_output_loss: 23.3992 - val_y2_output_loss: 142.0696\n",
            "Epoch 60/300\n",
            "60/60 [==============================] - 0s 5ms/step - loss: 163.1041 - y1_output_loss: 24.3580 - y2_output_loss: 138.7461 - val_loss: 157.8598 - val_y1_output_loss: 23.3182 - val_y2_output_loss: 134.5415\n",
            "Epoch 61/300\n",
            "60/60 [==============================] - 0s 6ms/step - loss: 155.7344 - y1_output_loss: 24.2669 - y2_output_loss: 131.4676 - val_loss: 149.8477 - val_y1_output_loss: 23.3234 - val_y2_output_loss: 126.5243\n",
            "Epoch 62/300\n",
            "60/60 [==============================] - 0s 6ms/step - loss: 147.3199 - y1_output_loss: 24.2103 - y2_output_loss: 123.1096 - val_loss: 141.2001 - val_y1_output_loss: 23.1296 - val_y2_output_loss: 118.0705\n",
            "Epoch 63/300\n",
            "60/60 [==============================] - 0s 6ms/step - loss: 138.6193 - y1_output_loss: 24.0025 - y2_output_loss: 114.6168 - val_loss: 133.2079 - val_y1_output_loss: 23.5094 - val_y2_output_loss: 109.6986\n",
            "Epoch 64/300\n",
            "60/60 [==============================] - 0s 5ms/step - loss: 129.1866 - y1_output_loss: 23.9586 - y2_output_loss: 105.2280 - val_loss: 122.9004 - val_y1_output_loss: 22.9931 - val_y2_output_loss: 99.9074\n",
            "Epoch 65/300\n",
            "60/60 [==============================] - 0s 6ms/step - loss: 119.9393 - y1_output_loss: 23.7790 - y2_output_loss: 96.1604 - val_loss: 113.6376 - val_y1_output_loss: 22.9799 - val_y2_output_loss: 90.6577\n",
            "Epoch 66/300\n",
            "60/60 [==============================] - 0s 5ms/step - loss: 110.9655 - y1_output_loss: 23.7089 - y2_output_loss: 87.2566 - val_loss: 104.9993 - val_y1_output_loss: 22.8368 - val_y2_output_loss: 82.1625\n",
            "Epoch 67/300\n",
            "60/60 [==============================] - 0s 5ms/step - loss: 103.3593 - y1_output_loss: 23.6561 - y2_output_loss: 79.7032 - val_loss: 98.0314 - val_y1_output_loss: 22.8086 - val_y2_output_loss: 75.2228\n",
            "Epoch 68/300\n",
            "60/60 [==============================] - 0s 6ms/step - loss: 96.2832 - y1_output_loss: 23.5214 - y2_output_loss: 72.7619 - val_loss: 91.7827 - val_y1_output_loss: 22.7777 - val_y2_output_loss: 69.0051\n",
            "Epoch 69/300\n",
            "60/60 [==============================] - 0s 6ms/step - loss: 90.9665 - y1_output_loss: 23.4362 - y2_output_loss: 67.5303 - val_loss: 86.9189 - val_y1_output_loss: 22.7511 - val_y2_output_loss: 64.1678\n",
            "Epoch 70/300\n",
            "60/60 [==============================] - 0s 5ms/step - loss: 87.1073 - y1_output_loss: 23.5207 - y2_output_loss: 63.5867 - val_loss: 84.2795 - val_y1_output_loss: 22.9011 - val_y2_output_loss: 61.3785\n",
            "Epoch 71/300\n",
            "60/60 [==============================] - 0s 6ms/step - loss: 83.9525 - y1_output_loss: 23.3458 - y2_output_loss: 60.6067 - val_loss: 81.5231 - val_y1_output_loss: 22.9797 - val_y2_output_loss: 58.5434\n",
            "Epoch 72/300\n",
            "60/60 [==============================] - 0s 5ms/step - loss: 81.8001 - y1_output_loss: 23.3744 - y2_output_loss: 58.4257 - val_loss: 79.6248 - val_y1_output_loss: 23.0005 - val_y2_output_loss: 56.6243\n",
            "Epoch 73/300\n",
            "60/60 [==============================] - 1s 10ms/step - loss: 80.0869 - y1_output_loss: 23.3898 - y2_output_loss: 56.6971 - val_loss: 77.7752 - val_y1_output_loss: 22.7450 - val_y2_output_loss: 55.0302\n",
            "Epoch 74/300\n",
            "60/60 [==============================] - 0s 7ms/step - loss: 78.2239 - y1_output_loss: 23.2944 - y2_output_loss: 54.9296 - val_loss: 76.3563 - val_y1_output_loss: 22.7719 - val_y2_output_loss: 53.5844\n",
            "Epoch 75/300\n",
            "60/60 [==============================] - 0s 8ms/step - loss: 77.1158 - y1_output_loss: 23.3136 - y2_output_loss: 53.8022 - val_loss: 75.3932 - val_y1_output_loss: 22.8829 - val_y2_output_loss: 52.5103\n",
            "Epoch 76/300\n",
            "60/60 [==============================] - 1s 9ms/step - loss: 75.9922 - y1_output_loss: 23.2775 - y2_output_loss: 52.7146 - val_loss: 74.2181 - val_y1_output_loss: 22.7182 - val_y2_output_loss: 51.5000\n",
            "Epoch 77/300\n",
            "60/60 [==============================] - 1s 9ms/step - loss: 75.0734 - y1_output_loss: 23.2860 - y2_output_loss: 51.7874 - val_loss: 73.5360 - val_y1_output_loss: 22.7702 - val_y2_output_loss: 50.7658\n",
            "Epoch 78/300\n",
            "60/60 [==============================] - 0s 6ms/step - loss: 73.9873 - y1_output_loss: 23.2717 - y2_output_loss: 50.7156 - val_loss: 72.4911 - val_y1_output_loss: 22.7213 - val_y2_output_loss: 49.7699\n",
            "Epoch 79/300\n",
            "60/60 [==============================] - 0s 5ms/step - loss: 73.2492 - y1_output_loss: 23.2777 - y2_output_loss: 49.9715 - val_loss: 72.0326 - val_y1_output_loss: 23.0067 - val_y2_output_loss: 49.0259\n",
            "Epoch 80/300\n",
            "60/60 [==============================] - 0s 6ms/step - loss: 72.3812 - y1_output_loss: 23.3197 - y2_output_loss: 49.0614 - val_loss: 71.6734 - val_y1_output_loss: 23.0157 - val_y2_output_loss: 48.6576\n",
            "Epoch 81/300\n",
            "60/60 [==============================] - 0s 6ms/step - loss: 71.7144 - y1_output_loss: 23.2793 - y2_output_loss: 48.4350 - val_loss: 70.4808 - val_y1_output_loss: 22.7090 - val_y2_output_loss: 47.7718\n",
            "Epoch 82/300\n",
            "60/60 [==============================] - 0s 6ms/step - loss: 71.0689 - y1_output_loss: 23.2710 - y2_output_loss: 47.7980 - val_loss: 70.7667 - val_y1_output_loss: 22.8887 - val_y2_output_loss: 47.8781\n",
            "Epoch 83/300\n",
            "60/60 [==============================] - 0s 6ms/step - loss: 70.3917 - y1_output_loss: 23.2410 - y2_output_loss: 47.1507 - val_loss: 69.2952 - val_y1_output_loss: 22.8283 - val_y2_output_loss: 46.4670\n",
            "Epoch 84/300\n",
            "60/60 [==============================] - 0s 6ms/step - loss: 69.7984 - y1_output_loss: 23.2296 - y2_output_loss: 46.5687 - val_loss: 68.5869 - val_y1_output_loss: 22.6728 - val_y2_output_loss: 45.9141\n",
            "Epoch 85/300\n",
            "60/60 [==============================] - 0s 5ms/step - loss: 69.1368 - y1_output_loss: 23.2549 - y2_output_loss: 45.8818 - val_loss: 67.9682 - val_y1_output_loss: 22.6721 - val_y2_output_loss: 45.2961\n",
            "Epoch 86/300\n",
            "60/60 [==============================] - 0s 6ms/step - loss: 68.5710 - y1_output_loss: 23.2761 - y2_output_loss: 45.2948 - val_loss: 67.9271 - val_y1_output_loss: 22.7239 - val_y2_output_loss: 45.2032\n",
            "Epoch 87/300\n",
            "60/60 [==============================] - 0s 5ms/step - loss: 68.0528 - y1_output_loss: 23.2640 - y2_output_loss: 44.7888 - val_loss: 67.3478 - val_y1_output_loss: 22.8131 - val_y2_output_loss: 44.5347\n",
            "Epoch 88/300\n",
            "60/60 [==============================] - 0s 5ms/step - loss: 67.6020 - y1_output_loss: 23.2571 - y2_output_loss: 44.3449 - val_loss: 67.1643 - val_y1_output_loss: 23.2443 - val_y2_output_loss: 43.9200\n",
            "Epoch 89/300\n",
            "60/60 [==============================] - 0s 6ms/step - loss: 67.0911 - y1_output_loss: 23.2877 - y2_output_loss: 43.8034 - val_loss: 66.8322 - val_y1_output_loss: 22.8793 - val_y2_output_loss: 43.9529\n",
            "Epoch 90/300\n",
            "60/60 [==============================] - 0s 5ms/step - loss: 66.5698 - y1_output_loss: 23.2120 - y2_output_loss: 43.3579 - val_loss: 65.6472 - val_y1_output_loss: 22.6664 - val_y2_output_loss: 42.9808\n",
            "Epoch 91/300\n",
            "60/60 [==============================] - 0s 6ms/step - loss: 66.1860 - y1_output_loss: 23.3043 - y2_output_loss: 42.8817 - val_loss: 65.7034 - val_y1_output_loss: 23.0629 - val_y2_output_loss: 42.6405\n",
            "Epoch 92/300\n",
            "60/60 [==============================] - 0s 6ms/step - loss: 65.5420 - y1_output_loss: 23.1705 - y2_output_loss: 42.3714 - val_loss: 65.3559 - val_y1_output_loss: 23.0044 - val_y2_output_loss: 42.3514\n",
            "Epoch 93/300\n",
            "60/60 [==============================] - 0s 5ms/step - loss: 65.4669 - y1_output_loss: 23.3173 - y2_output_loss: 42.1495 - val_loss: 64.8075 - val_y1_output_loss: 22.7715 - val_y2_output_loss: 42.0361\n",
            "Epoch 94/300\n",
            "60/60 [==============================] - 0s 6ms/step - loss: 64.9370 - y1_output_loss: 23.2472 - y2_output_loss: 41.6898 - val_loss: 64.4608 - val_y1_output_loss: 22.9063 - val_y2_output_loss: 41.5544\n",
            "Epoch 95/300\n",
            "60/60 [==============================] - 0s 5ms/step - loss: 64.8942 - y1_output_loss: 23.2256 - y2_output_loss: 41.6686 - val_loss: 64.5609 - val_y1_output_loss: 22.7754 - val_y2_output_loss: 41.7855\n",
            "Epoch 96/300\n",
            "60/60 [==============================] - 0s 5ms/step - loss: 64.5307 - y1_output_loss: 23.2654 - y2_output_loss: 41.2653 - val_loss: 63.7791 - val_y1_output_loss: 22.8480 - val_y2_output_loss: 40.9311\n",
            "Epoch 97/300\n",
            "60/60 [==============================] - 0s 5ms/step - loss: 64.3853 - y1_output_loss: 23.3092 - y2_output_loss: 41.0761 - val_loss: 64.0279 - val_y1_output_loss: 23.0602 - val_y2_output_loss: 40.9676\n",
            "Epoch 98/300\n",
            "60/60 [==============================] - 0s 6ms/step - loss: 63.7800 - y1_output_loss: 23.2299 - y2_output_loss: 40.5501 - val_loss: 63.2025 - val_y1_output_loss: 22.8319 - val_y2_output_loss: 40.3706\n",
            "Epoch 99/300\n",
            "60/60 [==============================] - 0s 6ms/step - loss: 63.3806 - y1_output_loss: 23.2490 - y2_output_loss: 40.1315 - val_loss: 63.1097 - val_y1_output_loss: 22.6881 - val_y2_output_loss: 40.4216\n",
            "Epoch 100/300\n",
            "60/60 [==============================] - 0s 6ms/step - loss: 63.1454 - y1_output_loss: 23.2054 - y2_output_loss: 39.9400 - val_loss: 62.9857 - val_y1_output_loss: 22.7039 - val_y2_output_loss: 40.2818\n",
            "Epoch 101/300\n",
            "60/60 [==============================] - 0s 6ms/step - loss: 62.9448 - y1_output_loss: 23.2228 - y2_output_loss: 39.7221 - val_loss: 62.3221 - val_y1_output_loss: 22.7073 - val_y2_output_loss: 39.6148\n",
            "Epoch 102/300\n",
            "60/60 [==============================] - 0s 6ms/step - loss: 62.6563 - y1_output_loss: 23.2428 - y2_output_loss: 39.4134 - val_loss: 62.1733 - val_y1_output_loss: 22.6945 - val_y2_output_loss: 39.4788\n",
            "Epoch 103/300\n",
            "60/60 [==============================] - 0s 6ms/step - loss: 62.5115 - y1_output_loss: 23.1527 - y2_output_loss: 39.3588 - val_loss: 61.8713 - val_y1_output_loss: 22.6697 - val_y2_output_loss: 39.2016\n",
            "Epoch 104/300\n",
            "60/60 [==============================] - 0s 6ms/step - loss: 62.5799 - y1_output_loss: 23.1855 - y2_output_loss: 39.3944 - val_loss: 61.7680 - val_y1_output_loss: 22.6493 - val_y2_output_loss: 39.1187\n",
            "Epoch 105/300\n",
            "60/60 [==============================] - 0s 5ms/step - loss: 62.0824 - y1_output_loss: 23.2329 - y2_output_loss: 38.8495 - val_loss: 61.5928 - val_y1_output_loss: 22.6712 - val_y2_output_loss: 38.9215\n",
            "Epoch 106/300\n",
            "60/60 [==============================] - 0s 5ms/step - loss: 61.9047 - y1_output_loss: 23.2295 - y2_output_loss: 38.6752 - val_loss: 61.3283 - val_y1_output_loss: 22.7277 - val_y2_output_loss: 38.6006\n",
            "Epoch 107/300\n",
            "60/60 [==============================] - 0s 7ms/step - loss: 61.8726 - y1_output_loss: 23.4084 - y2_output_loss: 38.4642 - val_loss: 61.1030 - val_y1_output_loss: 22.6668 - val_y2_output_loss: 38.4362\n",
            "Epoch 108/300\n",
            "60/60 [==============================] - 0s 8ms/step - loss: 61.8915 - y1_output_loss: 23.4010 - y2_output_loss: 38.4905 - val_loss: 61.2683 - val_y1_output_loss: 22.7219 - val_y2_output_loss: 38.5465\n",
            "Epoch 109/300\n",
            "60/60 [==============================] - 0s 8ms/step - loss: 61.6554 - y1_output_loss: 23.2985 - y2_output_loss: 38.3568 - val_loss: 61.4270 - val_y1_output_loss: 22.6688 - val_y2_output_loss: 38.7581\n",
            "Epoch 110/300\n",
            "60/60 [==============================] - 0s 8ms/step - loss: 61.4077 - y1_output_loss: 23.2216 - y2_output_loss: 38.1860 - val_loss: 61.6142 - val_y1_output_loss: 23.3666 - val_y2_output_loss: 38.2476\n",
            "Epoch 111/300\n",
            "60/60 [==============================] - 1s 9ms/step - loss: 61.3097 - y1_output_loss: 23.2185 - y2_output_loss: 38.0912 - val_loss: 60.6229 - val_y1_output_loss: 22.7051 - val_y2_output_loss: 37.9178\n",
            "Epoch 112/300\n",
            "60/60 [==============================] - 0s 7ms/step - loss: 60.9189 - y1_output_loss: 23.1782 - y2_output_loss: 37.7407 - val_loss: 61.3179 - val_y1_output_loss: 22.7025 - val_y2_output_loss: 38.6154\n",
            "Epoch 113/300\n",
            "60/60 [==============================] - 0s 6ms/step - loss: 61.0438 - y1_output_loss: 23.2309 - y2_output_loss: 37.8130 - val_loss: 61.6938 - val_y1_output_loss: 22.7811 - val_y2_output_loss: 38.9128\n",
            "Epoch 114/300\n",
            "60/60 [==============================] - 0s 6ms/step - loss: 60.8203 - y1_output_loss: 23.1860 - y2_output_loss: 37.6343 - val_loss: 60.2585 - val_y1_output_loss: 22.7486 - val_y2_output_loss: 37.5099\n",
            "Epoch 115/300\n",
            "60/60 [==============================] - 0s 6ms/step - loss: 60.8208 - y1_output_loss: 23.2941 - y2_output_loss: 37.5267 - val_loss: 60.1216 - val_y1_output_loss: 22.6742 - val_y2_output_loss: 37.4475\n",
            "Epoch 116/300\n",
            "60/60 [==============================] - 0s 5ms/step - loss: 60.6355 - y1_output_loss: 23.3166 - y2_output_loss: 37.3189 - val_loss: 60.5527 - val_y1_output_loss: 22.6728 - val_y2_output_loss: 37.8799\n",
            "Epoch 117/300\n",
            "60/60 [==============================] - 0s 6ms/step - loss: 60.7040 - y1_output_loss: 23.3220 - y2_output_loss: 37.3820 - val_loss: 59.8664 - val_y1_output_loss: 22.6884 - val_y2_output_loss: 37.1779\n",
            "Epoch 118/300\n",
            "60/60 [==============================] - 0s 6ms/step - loss: 60.3800 - y1_output_loss: 23.1758 - y2_output_loss: 37.2042 - val_loss: 62.7978 - val_y1_output_loss: 23.2139 - val_y2_output_loss: 39.5839\n",
            "Epoch 119/300\n",
            "60/60 [==============================] - 0s 6ms/step - loss: 60.6161 - y1_output_loss: 23.2141 - y2_output_loss: 37.4020 - val_loss: 59.9816 - val_y1_output_loss: 22.9033 - val_y2_output_loss: 37.0783\n",
            "Epoch 120/300\n",
            "60/60 [==============================] - 0s 6ms/step - loss: 60.1024 - y1_output_loss: 23.1871 - y2_output_loss: 36.9153 - val_loss: 59.7230 - val_y1_output_loss: 22.7527 - val_y2_output_loss: 36.9703\n",
            "Epoch 121/300\n",
            "60/60 [==============================] - 0s 6ms/step - loss: 60.1831 - y1_output_loss: 23.2066 - y2_output_loss: 36.9765 - val_loss: 60.3583 - val_y1_output_loss: 22.8871 - val_y2_output_loss: 37.4712\n",
            "Epoch 122/300\n",
            "60/60 [==============================] - 0s 6ms/step - loss: 60.4337 - y1_output_loss: 23.3565 - y2_output_loss: 37.0772 - val_loss: 59.4810 - val_y1_output_loss: 22.7086 - val_y2_output_loss: 36.7724\n",
            "Epoch 123/300\n",
            "60/60 [==============================] - 0s 6ms/step - loss: 59.9155 - y1_output_loss: 23.2033 - y2_output_loss: 36.7122 - val_loss: 60.5402 - val_y1_output_loss: 22.8316 - val_y2_output_loss: 37.7086\n",
            "Epoch 124/300\n",
            "60/60 [==============================] - 0s 6ms/step - loss: 60.1243 - y1_output_loss: 23.3700 - y2_output_loss: 36.7543 - val_loss: 59.4147 - val_y1_output_loss: 22.6655 - val_y2_output_loss: 36.7491\n",
            "Epoch 125/300\n",
            "60/60 [==============================] - 0s 6ms/step - loss: 59.8817 - y1_output_loss: 23.3201 - y2_output_loss: 36.5616 - val_loss: 59.7148 - val_y1_output_loss: 23.1792 - val_y2_output_loss: 36.5356\n",
            "Epoch 126/300\n",
            "60/60 [==============================] - 0s 6ms/step - loss: 59.9382 - y1_output_loss: 23.2626 - y2_output_loss: 36.6756 - val_loss: 60.1526 - val_y1_output_loss: 22.8017 - val_y2_output_loss: 37.3509\n",
            "Epoch 127/300\n",
            "60/60 [==============================] - 0s 6ms/step - loss: 59.8625 - y1_output_loss: 23.3030 - y2_output_loss: 36.5595 - val_loss: 59.2487 - val_y1_output_loss: 22.8679 - val_y2_output_loss: 36.3808\n",
            "Epoch 128/300\n",
            "60/60 [==============================] - 0s 6ms/step - loss: 59.7956 - y1_output_loss: 23.2599 - y2_output_loss: 36.5357 - val_loss: 59.8579 - val_y1_output_loss: 22.8708 - val_y2_output_loss: 36.9871\n",
            "Epoch 129/300\n",
            "60/60 [==============================] - 0s 6ms/step - loss: 59.7320 - y1_output_loss: 23.4201 - y2_output_loss: 36.3119 - val_loss: 58.9327 - val_y1_output_loss: 22.6685 - val_y2_output_loss: 36.2642\n",
            "Epoch 130/300\n",
            "60/60 [==============================] - 0s 5ms/step - loss: 59.6441 - y1_output_loss: 23.1861 - y2_output_loss: 36.4580 - val_loss: 58.9470 - val_y1_output_loss: 22.7852 - val_y2_output_loss: 36.1619\n",
            "Epoch 131/300\n",
            "60/60 [==============================] - 0s 6ms/step - loss: 59.5612 - y1_output_loss: 23.2630 - y2_output_loss: 36.2983 - val_loss: 59.1602 - val_y1_output_loss: 23.0016 - val_y2_output_loss: 36.1585\n",
            "Epoch 132/300\n",
            "60/60 [==============================] - 0s 5ms/step - loss: 59.6298 - y1_output_loss: 23.2803 - y2_output_loss: 36.3495 - val_loss: 60.3084 - val_y1_output_loss: 23.1727 - val_y2_output_loss: 37.1356\n",
            "Epoch 133/300\n",
            "60/60 [==============================] - 0s 6ms/step - loss: 59.4163 - y1_output_loss: 23.2302 - y2_output_loss: 36.1861 - val_loss: 59.1130 - val_y1_output_loss: 22.6518 - val_y2_output_loss: 36.4612\n",
            "Epoch 134/300\n",
            "60/60 [==============================] - 0s 6ms/step - loss: 59.7008 - y1_output_loss: 23.2298 - y2_output_loss: 36.4711 - val_loss: 59.1351 - val_y1_output_loss: 22.9835 - val_y2_output_loss: 36.1516\n",
            "Epoch 135/300\n",
            "60/60 [==============================] - 0s 5ms/step - loss: 59.4253 - y1_output_loss: 23.2435 - y2_output_loss: 36.1818 - val_loss: 59.2594 - val_y1_output_loss: 23.1721 - val_y2_output_loss: 36.0873\n",
            "Epoch 136/300\n",
            "60/60 [==============================] - 0s 6ms/step - loss: 59.5104 - y1_output_loss: 23.3386 - y2_output_loss: 36.1719 - val_loss: 58.9190 - val_y1_output_loss: 23.0396 - val_y2_output_loss: 35.8794\n",
            "Epoch 137/300\n",
            "60/60 [==============================] - 0s 6ms/step - loss: 59.3404 - y1_output_loss: 23.2505 - y2_output_loss: 36.0899 - val_loss: 59.2771 - val_y1_output_loss: 22.7251 - val_y2_output_loss: 36.5519\n",
            "Epoch 138/300\n",
            "60/60 [==============================] - 0s 5ms/step - loss: 59.4086 - y1_output_loss: 23.2269 - y2_output_loss: 36.1817 - val_loss: 58.7148 - val_y1_output_loss: 22.6511 - val_y2_output_loss: 36.0636\n",
            "Epoch 139/300\n",
            "60/60 [==============================] - 0s 6ms/step - loss: 59.3440 - y1_output_loss: 23.3135 - y2_output_loss: 36.0304 - val_loss: 58.5558 - val_y1_output_loss: 22.7852 - val_y2_output_loss: 35.7706\n",
            "Epoch 140/300\n",
            "60/60 [==============================] - 0s 7ms/step - loss: 59.3512 - y1_output_loss: 23.2629 - y2_output_loss: 36.0883 - val_loss: 58.4991 - val_y1_output_loss: 22.7090 - val_y2_output_loss: 35.7901\n",
            "Epoch 141/300\n",
            "60/60 [==============================] - 1s 9ms/step - loss: 59.2406 - y1_output_loss: 23.2423 - y2_output_loss: 35.9983 - val_loss: 58.9879 - val_y1_output_loss: 22.8657 - val_y2_output_loss: 36.1222\n",
            "Epoch 142/300\n",
            "60/60 [==============================] - 0s 8ms/step - loss: 59.1271 - y1_output_loss: 23.2728 - y2_output_loss: 35.8543 - val_loss: 58.4850 - val_y1_output_loss: 22.8431 - val_y2_output_loss: 35.6419\n",
            "Epoch 143/300\n",
            "60/60 [==============================] - 0s 7ms/step - loss: 59.2935 - y1_output_loss: 23.2813 - y2_output_loss: 36.0121 - val_loss: 58.6235 - val_y1_output_loss: 22.7517 - val_y2_output_loss: 35.8717\n",
            "Epoch 144/300\n",
            "60/60 [==============================] - 1s 9ms/step - loss: 59.1381 - y1_output_loss: 23.3490 - y2_output_loss: 35.7891 - val_loss: 58.6879 - val_y1_output_loss: 23.0933 - val_y2_output_loss: 35.5946\n",
            "Epoch 145/300\n",
            "60/60 [==============================] - 0s 8ms/step - loss: 59.1721 - y1_output_loss: 23.3177 - y2_output_loss: 35.8543 - val_loss: 58.1939 - val_y1_output_loss: 22.6514 - val_y2_output_loss: 35.5425\n",
            "Epoch 146/300\n",
            "60/60 [==============================] - 0s 6ms/step - loss: 59.1302 - y1_output_loss: 23.2172 - y2_output_loss: 35.9130 - val_loss: 58.7249 - val_y1_output_loss: 22.6521 - val_y2_output_loss: 36.0727\n",
            "Epoch 147/300\n",
            "60/60 [==============================] - 0s 5ms/step - loss: 59.1727 - y1_output_loss: 23.2274 - y2_output_loss: 35.9454 - val_loss: 58.9518 - val_y1_output_loss: 22.7250 - val_y2_output_loss: 36.2269\n",
            "Epoch 148/300\n",
            "60/60 [==============================] - 0s 6ms/step - loss: 59.5430 - y1_output_loss: 23.1917 - y2_output_loss: 36.3513 - val_loss: 58.8464 - val_y1_output_loss: 22.6360 - val_y2_output_loss: 36.2104\n",
            "Epoch 149/300\n",
            "60/60 [==============================] - 0s 5ms/step - loss: 59.1408 - y1_output_loss: 23.2476 - y2_output_loss: 35.8932 - val_loss: 58.4936 - val_y1_output_loss: 22.8886 - val_y2_output_loss: 35.6049\n",
            "Epoch 150/300\n",
            "60/60 [==============================] - 0s 6ms/step - loss: 58.8852 - y1_output_loss: 23.2075 - y2_output_loss: 35.6777 - val_loss: 58.2670 - val_y1_output_loss: 22.6989 - val_y2_output_loss: 35.5681\n",
            "Epoch 151/300\n",
            "60/60 [==============================] - 0s 6ms/step - loss: 58.9860 - y1_output_loss: 23.2948 - y2_output_loss: 35.6912 - val_loss: 58.0896 - val_y1_output_loss: 22.7095 - val_y2_output_loss: 35.3801\n",
            "Epoch 152/300\n",
            "60/60 [==============================] - 0s 6ms/step - loss: 58.8374 - y1_output_loss: 23.2562 - y2_output_loss: 35.5812 - val_loss: 58.2058 - val_y1_output_loss: 22.8640 - val_y2_output_loss: 35.3418\n",
            "Epoch 153/300\n",
            "60/60 [==============================] - 0s 6ms/step - loss: 58.9112 - y1_output_loss: 23.3163 - y2_output_loss: 35.5949 - val_loss: 57.9985 - val_y1_output_loss: 22.6809 - val_y2_output_loss: 35.3176\n",
            "Epoch 154/300\n",
            "60/60 [==============================] - 0s 5ms/step - loss: 58.9253 - y1_output_loss: 23.2919 - y2_output_loss: 35.6333 - val_loss: 57.9914 - val_y1_output_loss: 22.6824 - val_y2_output_loss: 35.3090\n",
            "Epoch 155/300\n",
            "60/60 [==============================] - 0s 6ms/step - loss: 59.0083 - y1_output_loss: 23.4522 - y2_output_loss: 35.5561 - val_loss: 58.5784 - val_y1_output_loss: 22.7687 - val_y2_output_loss: 35.8097\n",
            "Epoch 156/300\n",
            "60/60 [==============================] - 0s 6ms/step - loss: 59.1356 - y1_output_loss: 23.4298 - y2_output_loss: 35.7058 - val_loss: 58.1799 - val_y1_output_loss: 22.9009 - val_y2_output_loss: 35.2790\n",
            "Epoch 157/300\n",
            "60/60 [==============================] - 0s 6ms/step - loss: 58.8512 - y1_output_loss: 23.3015 - y2_output_loss: 35.5496 - val_loss: 57.9887 - val_y1_output_loss: 22.7325 - val_y2_output_loss: 35.2562\n",
            "Epoch 158/300\n",
            "60/60 [==============================] - 0s 6ms/step - loss: 58.7498 - y1_output_loss: 23.2047 - y2_output_loss: 35.5451 - val_loss: 58.0695 - val_y1_output_loss: 22.8014 - val_y2_output_loss: 35.2681\n",
            "Epoch 159/300\n",
            "60/60 [==============================] - 0s 5ms/step - loss: 58.6898 - y1_output_loss: 23.2248 - y2_output_loss: 35.4651 - val_loss: 57.9652 - val_y1_output_loss: 22.6795 - val_y2_output_loss: 35.2857\n",
            "Epoch 160/300\n",
            "60/60 [==============================] - 0s 6ms/step - loss: 58.7688 - y1_output_loss: 23.2253 - y2_output_loss: 35.5435 - val_loss: 58.3611 - val_y1_output_loss: 23.2075 - val_y2_output_loss: 35.1535\n",
            "Epoch 161/300\n",
            "60/60 [==============================] - 0s 6ms/step - loss: 58.8556 - y1_output_loss: 23.2417 - y2_output_loss: 35.6139 - val_loss: 58.4902 - val_y1_output_loss: 23.2620 - val_y2_output_loss: 35.2281\n",
            "Epoch 162/300\n",
            "60/60 [==============================] - 0s 5ms/step - loss: 58.9380 - y1_output_loss: 23.2828 - y2_output_loss: 35.6551 - val_loss: 57.9176 - val_y1_output_loss: 22.6788 - val_y2_output_loss: 35.2387\n",
            "Epoch 163/300\n",
            "60/60 [==============================] - 0s 6ms/step - loss: 58.6419 - y1_output_loss: 23.2185 - y2_output_loss: 35.4235 - val_loss: 57.9898 - val_y1_output_loss: 22.6737 - val_y2_output_loss: 35.3160\n",
            "Epoch 164/300\n",
            "60/60 [==============================] - 0s 7ms/step - loss: 58.7241 - y1_output_loss: 23.2403 - y2_output_loss: 35.4837 - val_loss: 58.1228 - val_y1_output_loss: 22.6667 - val_y2_output_loss: 35.4561\n",
            "Epoch 165/300\n",
            "60/60 [==============================] - 0s 6ms/step - loss: 58.7173 - y1_output_loss: 23.2096 - y2_output_loss: 35.5077 - val_loss: 57.7574 - val_y1_output_loss: 22.6637 - val_y2_output_loss: 35.0937\n",
            "Epoch 166/300\n",
            "60/60 [==============================] - 0s 6ms/step - loss: 58.7291 - y1_output_loss: 23.2310 - y2_output_loss: 35.4980 - val_loss: 58.8334 - val_y1_output_loss: 22.6364 - val_y2_output_loss: 36.1971\n",
            "Epoch 167/300\n",
            "60/60 [==============================] - 0s 6ms/step - loss: 59.0149 - y1_output_loss: 23.3067 - y2_output_loss: 35.7083 - val_loss: 57.7275 - val_y1_output_loss: 22.6729 - val_y2_output_loss: 35.0546\n",
            "Epoch 168/300\n",
            "60/60 [==============================] - 0s 5ms/step - loss: 58.8691 - y1_output_loss: 23.4074 - y2_output_loss: 35.4617 - val_loss: 58.5697 - val_y1_output_loss: 23.0385 - val_y2_output_loss: 35.5312\n",
            "Epoch 169/300\n",
            "60/60 [==============================] - 0s 6ms/step - loss: 58.6837 - y1_output_loss: 23.2991 - y2_output_loss: 35.3846 - val_loss: 57.6654 - val_y1_output_loss: 22.6703 - val_y2_output_loss: 34.9951\n",
            "Epoch 170/300\n",
            "60/60 [==============================] - 0s 6ms/step - loss: 58.5417 - y1_output_loss: 23.2048 - y2_output_loss: 35.3369 - val_loss: 57.7855 - val_y1_output_loss: 22.7785 - val_y2_output_loss: 35.0070\n",
            "Epoch 171/300\n",
            "60/60 [==============================] - 0s 6ms/step - loss: 58.6342 - y1_output_loss: 23.3133 - y2_output_loss: 35.3209 - val_loss: 58.4405 - val_y1_output_loss: 22.7329 - val_y2_output_loss: 35.7076\n",
            "Epoch 172/300\n",
            "60/60 [==============================] - 0s 6ms/step - loss: 58.5952 - y1_output_loss: 23.2580 - y2_output_loss: 35.3372 - val_loss: 58.9340 - val_y1_output_loss: 22.8152 - val_y2_output_loss: 36.1188\n",
            "Epoch 173/300\n",
            "60/60 [==============================] - 0s 7ms/step - loss: 58.6410 - y1_output_loss: 23.3000 - y2_output_loss: 35.3411 - val_loss: 57.6535 - val_y1_output_loss: 22.7161 - val_y2_output_loss: 34.9373\n",
            "Epoch 174/300\n",
            "60/60 [==============================] - 0s 8ms/step - loss: 58.8986 - y1_output_loss: 23.4359 - y2_output_loss: 35.4627 - val_loss: 57.8136 - val_y1_output_loss: 22.6820 - val_y2_output_loss: 35.1316\n",
            "Epoch 175/300\n",
            "60/60 [==============================] - 1s 9ms/step - loss: 58.6536 - y1_output_loss: 23.1948 - y2_output_loss: 35.4587 - val_loss: 59.1838 - val_y1_output_loss: 23.2911 - val_y2_output_loss: 35.8927\n",
            "Epoch 176/300\n",
            "60/60 [==============================] - 1s 9ms/step - loss: 58.5805 - y1_output_loss: 23.2411 - y2_output_loss: 35.3395 - val_loss: 57.5522 - val_y1_output_loss: 22.6672 - val_y2_output_loss: 34.8850\n",
            "Epoch 177/300\n",
            "60/60 [==============================] - 1s 8ms/step - loss: 58.5712 - y1_output_loss: 23.2836 - y2_output_loss: 35.2876 - val_loss: 58.1539 - val_y1_output_loss: 22.7090 - val_y2_output_loss: 35.4448\n",
            "Epoch 178/300\n",
            "60/60 [==============================] - 1s 9ms/step - loss: 58.5367 - y1_output_loss: 23.1591 - y2_output_loss: 35.3776 - val_loss: 57.7573 - val_y1_output_loss: 22.7827 - val_y2_output_loss: 34.9746\n",
            "Epoch 179/300\n",
            "60/60 [==============================] - 0s 6ms/step - loss: 58.6536 - y1_output_loss: 23.2551 - y2_output_loss: 35.3986 - val_loss: 57.5822 - val_y1_output_loss: 22.6944 - val_y2_output_loss: 34.8878\n",
            "Epoch 180/300\n",
            "60/60 [==============================] - 0s 6ms/step - loss: 58.5636 - y1_output_loss: 23.2104 - y2_output_loss: 35.3532 - val_loss: 57.6651 - val_y1_output_loss: 22.7742 - val_y2_output_loss: 34.8909\n",
            "Epoch 181/300\n",
            "60/60 [==============================] - 0s 6ms/step - loss: 58.6117 - y1_output_loss: 23.2543 - y2_output_loss: 35.3574 - val_loss: 60.2576 - val_y1_output_loss: 22.8530 - val_y2_output_loss: 37.4047\n",
            "Epoch 182/300\n",
            "60/60 [==============================] - 0s 6ms/step - loss: 59.2118 - y1_output_loss: 23.4305 - y2_output_loss: 35.7814 - val_loss: 57.6069 - val_y1_output_loss: 22.7700 - val_y2_output_loss: 34.8369\n",
            "Epoch 183/300\n",
            "60/60 [==============================] - 0s 6ms/step - loss: 58.6203 - y1_output_loss: 23.4013 - y2_output_loss: 35.2190 - val_loss: 57.7063 - val_y1_output_loss: 22.8318 - val_y2_output_loss: 34.8745\n",
            "Epoch 184/300\n",
            "60/60 [==============================] - 0s 6ms/step - loss: 58.8287 - y1_output_loss: 23.2357 - y2_output_loss: 35.5930 - val_loss: 58.0416 - val_y1_output_loss: 22.7055 - val_y2_output_loss: 35.3361\n",
            "Epoch 185/300\n",
            "60/60 [==============================] - 0s 5ms/step - loss: 58.4706 - y1_output_loss: 23.2044 - y2_output_loss: 35.2662 - val_loss: 57.4580 - val_y1_output_loss: 22.6750 - val_y2_output_loss: 34.7830\n",
            "Epoch 186/300\n",
            "60/60 [==============================] - 0s 5ms/step - loss: 58.4849 - y1_output_loss: 23.1942 - y2_output_loss: 35.2907 - val_loss: 58.3000 - val_y1_output_loss: 23.1490 - val_y2_output_loss: 35.1510\n",
            "Epoch 187/300\n",
            "60/60 [==============================] - 0s 5ms/step - loss: 58.4073 - y1_output_loss: 23.2207 - y2_output_loss: 35.1866 - val_loss: 57.5540 - val_y1_output_loss: 22.6446 - val_y2_output_loss: 34.9094\n",
            "Epoch 188/300\n",
            "60/60 [==============================] - 0s 6ms/step - loss: 58.7112 - y1_output_loss: 23.3308 - y2_output_loss: 35.3804 - val_loss: 58.4608 - val_y1_output_loss: 22.7223 - val_y2_output_loss: 35.7385\n",
            "Epoch 189/300\n",
            "60/60 [==============================] - 0s 5ms/step - loss: 58.5220 - y1_output_loss: 23.2043 - y2_output_loss: 35.3177 - val_loss: 57.4994 - val_y1_output_loss: 22.6838 - val_y2_output_loss: 34.8157\n",
            "Epoch 190/300\n",
            "60/60 [==============================] - 0s 6ms/step - loss: 58.9243 - y1_output_loss: 23.2906 - y2_output_loss: 35.6337 - val_loss: 57.6468 - val_y1_output_loss: 22.8714 - val_y2_output_loss: 34.7754\n",
            "Epoch 191/300\n",
            "60/60 [==============================] - 0s 5ms/step - loss: 58.5009 - y1_output_loss: 23.2070 - y2_output_loss: 35.2938 - val_loss: 58.0241 - val_y1_output_loss: 22.8595 - val_y2_output_loss: 35.1646\n",
            "Epoch 192/300\n",
            "60/60 [==============================] - 0s 6ms/step - loss: 58.5991 - y1_output_loss: 23.2102 - y2_output_loss: 35.3889 - val_loss: 58.2792 - val_y1_output_loss: 23.4894 - val_y2_output_loss: 34.7897\n",
            "Epoch 193/300\n",
            "60/60 [==============================] - 0s 6ms/step - loss: 58.3427 - y1_output_loss: 23.1889 - y2_output_loss: 35.1538 - val_loss: 58.4179 - val_y1_output_loss: 22.7279 - val_y2_output_loss: 35.6900\n",
            "Epoch 194/300\n",
            "60/60 [==============================] - 0s 5ms/step - loss: 58.8978 - y1_output_loss: 23.2910 - y2_output_loss: 35.6068 - val_loss: 58.0197 - val_y1_output_loss: 22.7038 - val_y2_output_loss: 35.3159\n",
            "Epoch 195/300\n",
            "60/60 [==============================] - 0s 5ms/step - loss: 58.5490 - y1_output_loss: 23.2498 - y2_output_loss: 35.2992 - val_loss: 57.7187 - val_y1_output_loss: 22.8060 - val_y2_output_loss: 34.9127\n",
            "Epoch 196/300\n",
            "60/60 [==============================] - 0s 6ms/step - loss: 58.3358 - y1_output_loss: 23.2270 - y2_output_loss: 35.1088 - val_loss: 57.8063 - val_y1_output_loss: 22.7853 - val_y2_output_loss: 35.0210\n",
            "Epoch 197/300\n",
            "60/60 [==============================] - 0s 6ms/step - loss: 58.5353 - y1_output_loss: 23.3027 - y2_output_loss: 35.2326 - val_loss: 57.4983 - val_y1_output_loss: 22.7245 - val_y2_output_loss: 34.7738\n",
            "Epoch 198/300\n",
            "60/60 [==============================] - 0s 6ms/step - loss: 58.3363 - y1_output_loss: 23.2723 - y2_output_loss: 35.0640 - val_loss: 57.3327 - val_y1_output_loss: 22.6457 - val_y2_output_loss: 34.6870\n",
            "Epoch 199/300\n",
            "60/60 [==============================] - 0s 6ms/step - loss: 58.3645 - y1_output_loss: 23.1969 - y2_output_loss: 35.1676 - val_loss: 57.5855 - val_y1_output_loss: 22.6799 - val_y2_output_loss: 34.9055\n",
            "Epoch 200/300\n",
            "60/60 [==============================] - 0s 5ms/step - loss: 58.5561 - y1_output_loss: 23.3395 - y2_output_loss: 35.2166 - val_loss: 57.7319 - val_y1_output_loss: 22.8015 - val_y2_output_loss: 34.9305\n",
            "Epoch 201/300\n",
            "60/60 [==============================] - 0s 6ms/step - loss: 58.7203 - y1_output_loss: 23.4823 - y2_output_loss: 35.2380 - val_loss: 58.3780 - val_y1_output_loss: 23.5625 - val_y2_output_loss: 34.8156\n",
            "Epoch 202/300\n",
            "60/60 [==============================] - 0s 6ms/step - loss: 58.4337 - y1_output_loss: 23.2628 - y2_output_loss: 35.1709 - val_loss: 58.7993 - val_y1_output_loss: 22.9857 - val_y2_output_loss: 35.8135\n",
            "Epoch 203/300\n",
            "60/60 [==============================] - 0s 6ms/step - loss: 58.3823 - y1_output_loss: 23.2225 - y2_output_loss: 35.1598 - val_loss: 57.4662 - val_y1_output_loss: 22.7030 - val_y2_output_loss: 34.7632\n",
            "Epoch 204/300\n",
            "60/60 [==============================] - 0s 5ms/step - loss: 58.4164 - y1_output_loss: 23.2761 - y2_output_loss: 35.1403 - val_loss: 57.4392 - val_y1_output_loss: 22.7461 - val_y2_output_loss: 34.6931\n",
            "Epoch 205/300\n",
            "60/60 [==============================] - 0s 6ms/step - loss: 58.3747 - y1_output_loss: 23.3170 - y2_output_loss: 35.0577 - val_loss: 57.2643 - val_y1_output_loss: 22.6479 - val_y2_output_loss: 34.6164\n",
            "Epoch 206/300\n",
            "60/60 [==============================] - 0s 6ms/step - loss: 58.3440 - y1_output_loss: 23.2763 - y2_output_loss: 35.0677 - val_loss: 58.0617 - val_y1_output_loss: 23.4230 - val_y2_output_loss: 34.6387\n",
            "Epoch 207/300\n",
            "60/60 [==============================] - 1s 9ms/step - loss: 58.4129 - y1_output_loss: 23.3346 - y2_output_loss: 35.0783 - val_loss: 57.7429 - val_y1_output_loss: 22.9846 - val_y2_output_loss: 34.7582\n",
            "Epoch 208/300\n",
            "60/60 [==============================] - 0s 8ms/step - loss: 58.4050 - y1_output_loss: 23.3296 - y2_output_loss: 35.0754 - val_loss: 57.4036 - val_y1_output_loss: 22.6800 - val_y2_output_loss: 34.7236\n",
            "Epoch 209/300\n",
            "60/60 [==============================] - 0s 8ms/step - loss: 58.2399 - y1_output_loss: 23.1865 - y2_output_loss: 35.0534 - val_loss: 57.3769 - val_y1_output_loss: 22.6934 - val_y2_output_loss: 34.6835\n",
            "Epoch 210/300\n",
            "60/60 [==============================] - 0s 7ms/step - loss: 58.6307 - y1_output_loss: 23.3199 - y2_output_loss: 35.3109 - val_loss: 57.3418 - val_y1_output_loss: 22.6933 - val_y2_output_loss: 34.6485\n",
            "Epoch 211/300\n",
            "60/60 [==============================] - 1s 9ms/step - loss: 58.3019 - y1_output_loss: 23.1945 - y2_output_loss: 35.1073 - val_loss: 57.2431 - val_y1_output_loss: 22.6543 - val_y2_output_loss: 34.5889\n",
            "Epoch 212/300\n",
            "60/60 [==============================] - 1s 8ms/step - loss: 58.3841 - y1_output_loss: 23.3165 - y2_output_loss: 35.0677 - val_loss: 57.4390 - val_y1_output_loss: 22.8152 - val_y2_output_loss: 34.6238\n",
            "Epoch 213/300\n",
            "60/60 [==============================] - 0s 5ms/step - loss: 58.3410 - y1_output_loss: 23.2854 - y2_output_loss: 35.0556 - val_loss: 57.4356 - val_y1_output_loss: 22.8342 - val_y2_output_loss: 34.6014\n",
            "Epoch 214/300\n",
            "60/60 [==============================] - 0s 6ms/step - loss: 58.4182 - y1_output_loss: 23.2329 - y2_output_loss: 35.1853 - val_loss: 57.7914 - val_y1_output_loss: 23.1562 - val_y2_output_loss: 34.6352\n",
            "Epoch 215/300\n",
            "60/60 [==============================] - 0s 6ms/step - loss: 58.7141 - y1_output_loss: 23.6988 - y2_output_loss: 35.0153 - val_loss: 57.9216 - val_y1_output_loss: 23.1057 - val_y2_output_loss: 34.8159\n",
            "Epoch 216/300\n",
            "60/60 [==============================] - 0s 6ms/step - loss: 58.2117 - y1_output_loss: 23.1992 - y2_output_loss: 35.0125 - val_loss: 57.2632 - val_y1_output_loss: 22.6867 - val_y2_output_loss: 34.5765\n",
            "Epoch 217/300\n",
            "60/60 [==============================] - 0s 6ms/step - loss: 58.3546 - y1_output_loss: 23.2561 - y2_output_loss: 35.0985 - val_loss: 57.2372 - val_y1_output_loss: 22.6616 - val_y2_output_loss: 34.5756\n",
            "Epoch 218/300\n",
            "60/60 [==============================] - 0s 6ms/step - loss: 58.3503 - y1_output_loss: 23.2553 - y2_output_loss: 35.0950 - val_loss: 57.6581 - val_y1_output_loss: 22.7207 - val_y2_output_loss: 34.9374\n",
            "Epoch 219/300\n",
            "60/60 [==============================] - 0s 6ms/step - loss: 58.4091 - y1_output_loss: 23.2559 - y2_output_loss: 35.1532 - val_loss: 57.4571 - val_y1_output_loss: 22.8931 - val_y2_output_loss: 34.5640\n",
            "Epoch 220/300\n",
            "60/60 [==============================] - 0s 6ms/step - loss: 58.4613 - y1_output_loss: 23.3608 - y2_output_loss: 35.1005 - val_loss: 57.3880 - val_y1_output_loss: 22.7187 - val_y2_output_loss: 34.6692\n",
            "Epoch 221/300\n",
            "60/60 [==============================] - 0s 6ms/step - loss: 58.1582 - y1_output_loss: 23.1880 - y2_output_loss: 34.9703 - val_loss: 57.4366 - val_y1_output_loss: 22.8959 - val_y2_output_loss: 34.5407\n",
            "Epoch 222/300\n",
            "60/60 [==============================] - 0s 6ms/step - loss: 58.2613 - y1_output_loss: 23.1819 - y2_output_loss: 35.0793 - val_loss: 58.4432 - val_y1_output_loss: 23.0354 - val_y2_output_loss: 35.4077\n",
            "Epoch 223/300\n",
            "60/60 [==============================] - 0s 6ms/step - loss: 58.3691 - y1_output_loss: 23.3227 - y2_output_loss: 35.0464 - val_loss: 57.7402 - val_y1_output_loss: 22.8784 - val_y2_output_loss: 34.8618\n",
            "Epoch 224/300\n",
            "60/60 [==============================] - 0s 6ms/step - loss: 58.4693 - y1_output_loss: 23.2993 - y2_output_loss: 35.1700 - val_loss: 57.5200 - val_y1_output_loss: 22.9854 - val_y2_output_loss: 34.5346\n",
            "Epoch 225/300\n",
            "60/60 [==============================] - 0s 6ms/step - loss: 58.4025 - y1_output_loss: 23.3525 - y2_output_loss: 35.0500 - val_loss: 58.1144 - val_y1_output_loss: 22.6746 - val_y2_output_loss: 35.4398\n",
            "Epoch 226/300\n",
            "60/60 [==============================] - 0s 6ms/step - loss: 58.3146 - y1_output_loss: 23.2112 - y2_output_loss: 35.1034 - val_loss: 57.1551 - val_y1_output_loss: 22.6593 - val_y2_output_loss: 34.4958\n",
            "Epoch 227/300\n",
            "60/60 [==============================] - 0s 5ms/step - loss: 58.1255 - y1_output_loss: 23.2114 - y2_output_loss: 34.9141 - val_loss: 57.1564 - val_y1_output_loss: 22.6445 - val_y2_output_loss: 34.5118\n",
            "Epoch 228/300\n",
            "60/60 [==============================] - 0s 6ms/step - loss: 58.1592 - y1_output_loss: 23.2189 - y2_output_loss: 34.9404 - val_loss: 57.3153 - val_y1_output_loss: 22.6671 - val_y2_output_loss: 34.6483\n",
            "Epoch 229/300\n",
            "60/60 [==============================] - 0s 6ms/step - loss: 58.1878 - y1_output_loss: 23.2265 - y2_output_loss: 34.9613 - val_loss: 57.2614 - val_y1_output_loss: 22.6547 - val_y2_output_loss: 34.6067\n",
            "Epoch 230/300\n",
            "60/60 [==============================] - 0s 6ms/step - loss: 58.3256 - y1_output_loss: 23.2929 - y2_output_loss: 35.0326 - val_loss: 57.4412 - val_y1_output_loss: 22.9408 - val_y2_output_loss: 34.5004\n",
            "Epoch 231/300\n",
            "60/60 [==============================] - 0s 6ms/step - loss: 58.3227 - y1_output_loss: 23.1849 - y2_output_loss: 35.1378 - val_loss: 57.1354 - val_y1_output_loss: 22.6460 - val_y2_output_loss: 34.4894\n",
            "Epoch 232/300\n",
            "60/60 [==============================] - 0s 6ms/step - loss: 58.3539 - y1_output_loss: 23.2537 - y2_output_loss: 35.1001 - val_loss: 57.4593 - val_y1_output_loss: 22.6648 - val_y2_output_loss: 34.7945\n",
            "Epoch 233/300\n",
            "60/60 [==============================] - 0s 6ms/step - loss: 58.2085 - y1_output_loss: 23.2306 - y2_output_loss: 34.9779 - val_loss: 57.7939 - val_y1_output_loss: 22.6659 - val_y2_output_loss: 35.1280\n",
            "Epoch 234/300\n",
            "60/60 [==============================] - 0s 6ms/step - loss: 58.3037 - y1_output_loss: 23.1819 - y2_output_loss: 35.1218 - val_loss: 57.7341 - val_y1_output_loss: 22.9248 - val_y2_output_loss: 34.8093\n",
            "Epoch 235/300\n",
            "60/60 [==============================] - 0s 6ms/step - loss: 58.3801 - y1_output_loss: 23.3383 - y2_output_loss: 35.0418 - val_loss: 57.2134 - val_y1_output_loss: 22.6856 - val_y2_output_loss: 34.5279\n",
            "Epoch 236/300\n",
            "60/60 [==============================] - 0s 6ms/step - loss: 58.3179 - y1_output_loss: 23.2029 - y2_output_loss: 35.1150 - val_loss: 57.5215 - val_y1_output_loss: 22.8536 - val_y2_output_loss: 34.6680\n",
            "Epoch 237/300\n",
            "60/60 [==============================] - 0s 6ms/step - loss: 58.4230 - y1_output_loss: 23.3649 - y2_output_loss: 35.0580 - val_loss: 57.7264 - val_y1_output_loss: 23.2066 - val_y2_output_loss: 34.5198\n",
            "Epoch 238/300\n",
            "60/60 [==============================] - 0s 6ms/step - loss: 58.3209 - y1_output_loss: 23.2301 - y2_output_loss: 35.0908 - val_loss: 57.2262 - val_y1_output_loss: 22.6892 - val_y2_output_loss: 34.5370\n",
            "Epoch 239/300\n",
            "60/60 [==============================] - 0s 6ms/step - loss: 58.1728 - y1_output_loss: 23.2382 - y2_output_loss: 34.9346 - val_loss: 57.1033 - val_y1_output_loss: 22.6476 - val_y2_output_loss: 34.4558\n",
            "Epoch 240/300\n",
            "60/60 [==============================] - 0s 7ms/step - loss: 58.5773 - y1_output_loss: 23.2661 - y2_output_loss: 35.3112 - val_loss: 60.1861 - val_y1_output_loss: 23.9247 - val_y2_output_loss: 36.2614\n",
            "Epoch 241/300\n",
            "60/60 [==============================] - 0s 7ms/step - loss: 58.7035 - y1_output_loss: 23.4313 - y2_output_loss: 35.2722 - val_loss: 57.9259 - val_y1_output_loss: 22.9318 - val_y2_output_loss: 34.9941\n",
            "Epoch 242/300\n",
            "60/60 [==============================] - 0s 8ms/step - loss: 58.2165 - y1_output_loss: 23.2087 - y2_output_loss: 35.0077 - val_loss: 57.2589 - val_y1_output_loss: 22.7790 - val_y2_output_loss: 34.4799\n",
            "Epoch 243/300\n",
            "60/60 [==============================] - 0s 8ms/step - loss: 58.1865 - y1_output_loss: 23.1721 - y2_output_loss: 35.0143 - val_loss: 58.4043 - val_y1_output_loss: 22.9482 - val_y2_output_loss: 35.4561\n",
            "Epoch 244/300\n",
            "60/60 [==============================] - 1s 9ms/step - loss: 58.3792 - y1_output_loss: 23.2390 - y2_output_loss: 35.1401 - val_loss: 57.4671 - val_y1_output_loss: 22.6493 - val_y2_output_loss: 34.8178\n",
            "Epoch 245/300\n",
            "60/60 [==============================] - 1s 9ms/step - loss: 58.0579 - y1_output_loss: 23.1860 - y2_output_loss: 34.8719 - val_loss: 57.0767 - val_y1_output_loss: 22.6411 - val_y2_output_loss: 34.4355\n",
            "Epoch 246/300\n",
            "60/60 [==============================] - 0s 6ms/step - loss: 58.0622 - y1_output_loss: 23.1479 - y2_output_loss: 34.9143 - val_loss: 57.4490 - val_y1_output_loss: 23.0266 - val_y2_output_loss: 34.4224\n",
            "Epoch 247/300\n",
            "60/60 [==============================] - 0s 6ms/step - loss: 58.3670 - y1_output_loss: 23.2854 - y2_output_loss: 35.0816 - val_loss: 58.3090 - val_y1_output_loss: 23.3288 - val_y2_output_loss: 34.9802\n",
            "Epoch 248/300\n",
            "60/60 [==============================] - 0s 6ms/step - loss: 58.5348 - y1_output_loss: 23.3599 - y2_output_loss: 35.1749 - val_loss: 57.5268 - val_y1_output_loss: 22.7515 - val_y2_output_loss: 34.7753\n",
            "Epoch 249/300\n",
            "60/60 [==============================] - 0s 6ms/step - loss: 58.2562 - y1_output_loss: 23.3668 - y2_output_loss: 34.8895 - val_loss: 57.0535 - val_y1_output_loss: 22.6354 - val_y2_output_loss: 34.4180\n",
            "Epoch 250/300\n",
            "60/60 [==============================] - 0s 6ms/step - loss: 58.4093 - y1_output_loss: 23.2846 - y2_output_loss: 35.1247 - val_loss: 57.9754 - val_y1_output_loss: 23.0527 - val_y2_output_loss: 34.9227\n",
            "Epoch 251/300\n",
            "60/60 [==============================] - 0s 6ms/step - loss: 58.2536 - y1_output_loss: 23.3008 - y2_output_loss: 34.9528 - val_loss: 57.1323 - val_y1_output_loss: 22.6853 - val_y2_output_loss: 34.4470\n",
            "Epoch 252/300\n",
            "60/60 [==============================] - 0s 6ms/step - loss: 58.4599 - y1_output_loss: 23.4044 - y2_output_loss: 35.0555 - val_loss: 57.1357 - val_y1_output_loss: 22.7389 - val_y2_output_loss: 34.3968\n",
            "Epoch 253/300\n",
            "60/60 [==============================] - 0s 6ms/step - loss: 58.1695 - y1_output_loss: 23.2484 - y2_output_loss: 34.9211 - val_loss: 57.2481 - val_y1_output_loss: 22.7088 - val_y2_output_loss: 34.5393\n",
            "Epoch 254/300\n",
            "60/60 [==============================] - 0s 6ms/step - loss: 58.1337 - y1_output_loss: 23.1526 - y2_output_loss: 34.9811 - val_loss: 57.0836 - val_y1_output_loss: 22.6530 - val_y2_output_loss: 34.4306\n",
            "Epoch 255/300\n",
            "60/60 [==============================] - 0s 7ms/step - loss: 58.0639 - y1_output_loss: 23.1773 - y2_output_loss: 34.8866 - val_loss: 57.1445 - val_y1_output_loss: 22.7045 - val_y2_output_loss: 34.4400\n",
            "Epoch 256/300\n",
            "60/60 [==============================] - 0s 6ms/step - loss: 58.0789 - y1_output_loss: 23.1677 - y2_output_loss: 34.9112 - val_loss: 57.0969 - val_y1_output_loss: 22.6736 - val_y2_output_loss: 34.4233\n",
            "Epoch 257/300\n",
            "60/60 [==============================] - 0s 6ms/step - loss: 58.0994 - y1_output_loss: 23.2330 - y2_output_loss: 34.8664 - val_loss: 57.1223 - val_y1_output_loss: 22.6604 - val_y2_output_loss: 34.4619\n",
            "Epoch 258/300\n",
            "60/60 [==============================] - 0s 6ms/step - loss: 58.1607 - y1_output_loss: 23.2003 - y2_output_loss: 34.9604 - val_loss: 57.5231 - val_y1_output_loss: 22.7098 - val_y2_output_loss: 34.8133\n",
            "Epoch 259/300\n",
            "60/60 [==============================] - 0s 6ms/step - loss: 58.1324 - y1_output_loss: 23.2598 - y2_output_loss: 34.8725 - val_loss: 57.1761 - val_y1_output_loss: 22.7164 - val_y2_output_loss: 34.4597\n",
            "Epoch 260/300\n",
            "60/60 [==============================] - 0s 6ms/step - loss: 58.3294 - y1_output_loss: 23.2540 - y2_output_loss: 35.0754 - val_loss: 57.1264 - val_y1_output_loss: 22.6298 - val_y2_output_loss: 34.4966\n",
            "Epoch 261/300\n",
            "60/60 [==============================] - 0s 6ms/step - loss: 58.6515 - y1_output_loss: 23.4652 - y2_output_loss: 35.1862 - val_loss: 57.0374 - val_y1_output_loss: 22.6598 - val_y2_output_loss: 34.3777\n",
            "Epoch 262/300\n",
            "60/60 [==============================] - 0s 6ms/step - loss: 58.5144 - y1_output_loss: 23.2157 - y2_output_loss: 35.2987 - val_loss: 57.0858 - val_y1_output_loss: 22.6848 - val_y2_output_loss: 34.4009\n",
            "Epoch 263/300\n",
            "60/60 [==============================] - 0s 6ms/step - loss: 58.0749 - y1_output_loss: 23.1851 - y2_output_loss: 34.8898 - val_loss: 57.5700 - val_y1_output_loss: 23.0009 - val_y2_output_loss: 34.5690\n",
            "Epoch 264/300\n",
            "60/60 [==============================] - 0s 6ms/step - loss: 58.4889 - y1_output_loss: 23.4001 - y2_output_loss: 35.0888 - val_loss: 57.5604 - val_y1_output_loss: 22.6677 - val_y2_output_loss: 34.8927\n",
            "Epoch 265/300\n",
            "60/60 [==============================] - 0s 6ms/step - loss: 58.4173 - y1_output_loss: 23.2639 - y2_output_loss: 35.1534 - val_loss: 58.7155 - val_y1_output_loss: 22.7233 - val_y2_output_loss: 35.9923\n",
            "Epoch 266/300\n",
            "60/60 [==============================] - 0s 6ms/step - loss: 58.1463 - y1_output_loss: 23.2359 - y2_output_loss: 34.9104 - val_loss: 57.0197 - val_y1_output_loss: 22.6388 - val_y2_output_loss: 34.3809\n",
            "Epoch 267/300\n",
            "60/60 [==============================] - 0s 6ms/step - loss: 58.3540 - y1_output_loss: 23.2570 - y2_output_loss: 35.0970 - val_loss: 57.0939 - val_y1_output_loss: 22.6907 - val_y2_output_loss: 34.4032\n",
            "Epoch 268/300\n",
            "60/60 [==============================] - 0s 6ms/step - loss: 58.2918 - y1_output_loss: 23.3599 - y2_output_loss: 34.9319 - val_loss: 57.4204 - val_y1_output_loss: 22.7297 - val_y2_output_loss: 34.6907\n",
            "Epoch 269/300\n",
            "60/60 [==============================] - 0s 6ms/step - loss: 58.2427 - y1_output_loss: 23.2284 - y2_output_loss: 35.0144 - val_loss: 57.0167 - val_y1_output_loss: 22.6501 - val_y2_output_loss: 34.3666\n",
            "Epoch 270/300\n",
            "60/60 [==============================] - 0s 6ms/step - loss: 58.1353 - y1_output_loss: 23.2245 - y2_output_loss: 34.9108 - val_loss: 57.0876 - val_y1_output_loss: 22.7167 - val_y2_output_loss: 34.3708\n",
            "Epoch 271/300\n",
            "60/60 [==============================] - 0s 6ms/step - loss: 58.0077 - y1_output_loss: 23.1736 - y2_output_loss: 34.8342 - val_loss: 57.2898 - val_y1_output_loss: 22.6820 - val_y2_output_loss: 34.6078\n",
            "Epoch 272/300\n",
            "60/60 [==============================] - 0s 6ms/step - loss: 57.9880 - y1_output_loss: 23.1531 - y2_output_loss: 34.8349 - val_loss: 57.1217 - val_y1_output_loss: 22.7019 - val_y2_output_loss: 34.4198\n",
            "Epoch 273/300\n",
            "60/60 [==============================] - 0s 8ms/step - loss: 58.3216 - y1_output_loss: 23.1984 - y2_output_loss: 35.1231 - val_loss: 57.0121 - val_y1_output_loss: 22.6517 - val_y2_output_loss: 34.3604\n",
            "Epoch 274/300\n",
            "60/60 [==============================] - 1s 9ms/step - loss: 58.1270 - y1_output_loss: 23.2346 - y2_output_loss: 34.8924 - val_loss: 57.5218 - val_y1_output_loss: 22.7592 - val_y2_output_loss: 34.7626\n",
            "Epoch 275/300\n",
            "60/60 [==============================] - 0s 8ms/step - loss: 58.2204 - y1_output_loss: 23.2640 - y2_output_loss: 34.9565 - val_loss: 57.0345 - val_y1_output_loss: 22.6681 - val_y2_output_loss: 34.3663\n",
            "Epoch 276/300\n",
            "60/60 [==============================] - 0s 8ms/step - loss: 58.2190 - y1_output_loss: 23.2207 - y2_output_loss: 34.9983 - val_loss: 57.0723 - val_y1_output_loss: 22.7318 - val_y2_output_loss: 34.3404\n",
            "Epoch 277/300\n",
            "60/60 [==============================] - 1s 9ms/step - loss: 58.1114 - y1_output_loss: 23.2980 - y2_output_loss: 34.8134 - val_loss: 57.3364 - val_y1_output_loss: 22.9353 - val_y2_output_loss: 34.4011\n",
            "Epoch 278/300\n",
            "60/60 [==============================] - 1s 9ms/step - loss: 58.2136 - y1_output_loss: 23.3167 - y2_output_loss: 34.8969 - val_loss: 57.2154 - val_y1_output_loss: 22.8747 - val_y2_output_loss: 34.3407\n",
            "Epoch 279/300\n",
            "60/60 [==============================] - 0s 6ms/step - loss: 58.1032 - y1_output_loss: 23.2407 - y2_output_loss: 34.8625 - val_loss: 57.1371 - val_y1_output_loss: 22.7562 - val_y2_output_loss: 34.3809\n",
            "Epoch 280/300\n",
            "60/60 [==============================] - 0s 6ms/step - loss: 58.1014 - y1_output_loss: 23.1760 - y2_output_loss: 34.9254 - val_loss: 57.3383 - val_y1_output_loss: 22.9575 - val_y2_output_loss: 34.3808\n",
            "Epoch 281/300\n",
            "60/60 [==============================] - 0s 6ms/step - loss: 58.3578 - y1_output_loss: 23.2337 - y2_output_loss: 35.1241 - val_loss: 57.4180 - val_y1_output_loss: 23.0643 - val_y2_output_loss: 34.3537\n",
            "Epoch 282/300\n",
            "60/60 [==============================] - 0s 6ms/step - loss: 58.1991 - y1_output_loss: 23.3172 - y2_output_loss: 34.8819 - val_loss: 57.9811 - val_y1_output_loss: 23.6216 - val_y2_output_loss: 34.3595\n",
            "Epoch 283/300\n",
            "60/60 [==============================] - 0s 6ms/step - loss: 58.2852 - y1_output_loss: 23.3234 - y2_output_loss: 34.9619 - val_loss: 57.8773 - val_y1_output_loss: 23.1362 - val_y2_output_loss: 34.7411\n",
            "Epoch 284/300\n",
            "60/60 [==============================] - 0s 6ms/step - loss: 58.2034 - y1_output_loss: 23.3551 - y2_output_loss: 34.8483 - val_loss: 56.9795 - val_y1_output_loss: 22.6480 - val_y2_output_loss: 34.3315\n",
            "Epoch 285/300\n",
            "60/60 [==============================] - 0s 6ms/step - loss: 58.1092 - y1_output_loss: 23.3045 - y2_output_loss: 34.8047 - val_loss: 57.3800 - val_y1_output_loss: 22.7689 - val_y2_output_loss: 34.6111\n",
            "Epoch 286/300\n",
            "60/60 [==============================] - 0s 6ms/step - loss: 58.2529 - y1_output_loss: 23.2417 - y2_output_loss: 35.0112 - val_loss: 57.0802 - val_y1_output_loss: 22.6993 - val_y2_output_loss: 34.3809\n",
            "Epoch 287/300\n",
            "60/60 [==============================] - 0s 6ms/step - loss: 58.0868 - y1_output_loss: 23.1731 - y2_output_loss: 34.9136 - val_loss: 57.0532 - val_y1_output_loss: 22.6451 - val_y2_output_loss: 34.4081\n",
            "Epoch 288/300\n",
            "60/60 [==============================] - 0s 5ms/step - loss: 58.0521 - y1_output_loss: 23.2408 - y2_output_loss: 34.8113 - val_loss: 57.6449 - val_y1_output_loss: 22.7375 - val_y2_output_loss: 34.9074\n",
            "Epoch 289/300\n",
            "60/60 [==============================] - 0s 5ms/step - loss: 58.1911 - y1_output_loss: 23.3375 - y2_output_loss: 34.8536 - val_loss: 57.1633 - val_y1_output_loss: 22.8261 - val_y2_output_loss: 34.3372\n",
            "Epoch 290/300\n",
            "60/60 [==============================] - 0s 5ms/step - loss: 58.3178 - y1_output_loss: 23.3056 - y2_output_loss: 35.0122 - val_loss: 57.2567 - val_y1_output_loss: 22.9195 - val_y2_output_loss: 34.3372\n",
            "Epoch 291/300\n",
            "60/60 [==============================] - 0s 6ms/step - loss: 58.1564 - y1_output_loss: 23.2245 - y2_output_loss: 34.9319 - val_loss: 57.1199 - val_y1_output_loss: 22.7781 - val_y2_output_loss: 34.3418\n",
            "Epoch 292/300\n",
            "60/60 [==============================] - 0s 6ms/step - loss: 58.0979 - y1_output_loss: 23.2634 - y2_output_loss: 34.8345 - val_loss: 57.1494 - val_y1_output_loss: 22.7293 - val_y2_output_loss: 34.4201\n",
            "Epoch 293/300\n",
            "60/60 [==============================] - 0s 6ms/step - loss: 58.1605 - y1_output_loss: 23.2839 - y2_output_loss: 34.8765 - val_loss: 57.5419 - val_y1_output_loss: 23.1554 - val_y2_output_loss: 34.3865\n",
            "Epoch 294/300\n",
            "60/60 [==============================] - 0s 6ms/step - loss: 58.0718 - y1_output_loss: 23.2854 - y2_output_loss: 34.7863 - val_loss: 57.2441 - val_y1_output_loss: 22.6934 - val_y2_output_loss: 34.5507\n",
            "Epoch 295/300\n",
            "60/60 [==============================] - 0s 6ms/step - loss: 58.3496 - y1_output_loss: 23.3307 - y2_output_loss: 35.0189 - val_loss: 57.7929 - val_y1_output_loss: 22.7976 - val_y2_output_loss: 34.9952\n",
            "Epoch 296/300\n",
            "60/60 [==============================] - 0s 6ms/step - loss: 58.2476 - y1_output_loss: 23.2445 - y2_output_loss: 35.0031 - val_loss: 57.3062 - val_y1_output_loss: 22.9709 - val_y2_output_loss: 34.3353\n",
            "Epoch 297/300\n",
            "60/60 [==============================] - 0s 5ms/step - loss: 58.0295 - y1_output_loss: 23.2426 - y2_output_loss: 34.7869 - val_loss: 57.2941 - val_y1_output_loss: 22.9448 - val_y2_output_loss: 34.3493\n",
            "Epoch 298/300\n",
            "60/60 [==============================] - 0s 6ms/step - loss: 58.5729 - y1_output_loss: 23.2681 - y2_output_loss: 35.3047 - val_loss: 58.9238 - val_y1_output_loss: 22.6667 - val_y2_output_loss: 36.2571\n",
            "Epoch 299/300\n",
            "60/60 [==============================] - 0s 6ms/step - loss: 58.3232 - y1_output_loss: 23.2048 - y2_output_loss: 35.1184 - val_loss: 57.4431 - val_y1_output_loss: 22.6797 - val_y2_output_loss: 34.7633\n",
            "Epoch 300/300\n",
            "60/60 [==============================] - 0s 6ms/step - loss: 57.9880 - y1_output_loss: 23.1897 - y2_output_loss: 34.7983 - val_loss: 57.1324 - val_y1_output_loss: 22.8026 - val_y2_output_loss: 34.3298\n"
          ]
        }
      ]
    },
    {
      "cell_type": "markdown",
      "source": [
        "## Predict of Model"
      ],
      "metadata": {
        "id": "uh9dkG1bKJdK"
      }
    },
    {
      "cell_type": "code",
      "source": [
        "predictions = model.predict(X_test)\n",
        "predicted_energy = predictions[0]\n",
        "predicted_vacuum = predictions[1]"
      ],
      "metadata": {
        "colab": {
          "base_uri": "https://localhost:8080/"
        },
        "id": "Bi-rfhddKIAe",
        "outputId": "74a54930-5a5d-4d9e-d322-e0d8b6258efc"
      },
      "execution_count": 26,
      "outputs": [
        {
          "output_type": "stream",
          "name": "stdout",
          "text": [
            "60/60 [==============================] - 0s 2ms/step\n"
          ]
        }
      ]
    },
    {
      "cell_type": "markdown",
      "source": [
        "## Visualization"
      ],
      "metadata": {
        "id": "D3X5Ne81Jugc"
      }
    },
    {
      "cell_type": "code",
      "source": [
        "plt.scatter(y_test[0], predicted_energy)\n",
        "plt.xlabel('actual energy output')\n",
        "plt.ylabel('predicted energy output')\n",
        "plt.show()"
      ],
      "metadata": {
        "colab": {
          "base_uri": "https://localhost:8080/",
          "height": 451
        },
        "id": "GSlTa6PqJ2eZ",
        "outputId": "64873625-3b0d-4ced-ebf2-ad39939573ce"
      },
      "execution_count": 28,
      "outputs": [
        {
          "output_type": "display_data",
          "data": {
            "text/plain": [
              "<Figure size 640x480 with 1 Axes>"
            ],
            "image/png": "[encoded data removed]"
          },
          "metadata": {}
        }
      ]
    },
    {
      "cell_type": "code",
      "source": [
        "plt.scatter(y_test[1], predicted_vacuum)\n",
        "plt.xlabel('actual exhaust vacuum')\n",
        "plt.ylabel('predicted exhaust vacuum')\n",
        "plt.show()"
      ],
      "metadata": {
        "colab": {
          "base_uri": "https://localhost:8080/",
          "height": 449
        },
        "id": "Kz6V8EsAKdCK",
        "outputId": "76c6cea4-3d2b-47b0-c8d8-ee051a9ac04d"
      },
      "execution_count": 29,
      "outputs": [
        {
          "output_type": "display_data",
          "data": {
            "text/plain": [
              "<Figure size 640x480 with 1 Axes>"
            ],
            "image/png": "[encoded data removed]"
          },
          "metadata": {}
        }
      ]
    },
    {
      "cell_type": "markdown",
      "source": [
        "## Evaluation"
      ],
      "metadata": {
        "id": "wTgxWmbmKqZk"
      }
    },
    {
      "cell_type": "code",
      "source": [
        "print('r2 score for energy predicted :', r2_score(y_test[0], predicted_energy))\n",
        "print('r2 score forexhaust vacuum predicted :', r2_score(y_test[1], predicted_vacuum))"
      ],
      "metadata": {
        "colab": {
          "base_uri": "https://localhost:8080/"
        },
        "id": "QhnvLF6CKj4o",
        "outputId": "612b849e-60de-42a5-c92c-ea54fb6e9409"
      },
      "execution_count": 30,
      "outputs": [
        {
          "output_type": "stream",
          "name": "stdout",
          "text": [
            "r2 score for energy predicted : 0.9213861406308309\n",
            "r2 score forexhaust vacuum predicted : 0.7871383703383564\n"
          ]
        }
      ]
    }
  ],
  "metadata": {
    "colab": {
      "provenance": [],
      "gpuType": "T4",
      "include_colab_link": true
    },
    "kernelspec": {
      "display_name": "Python 3",
      "name": "python3"
    },
    "accelerator": "GPU"
  },
  "nbformat": 4,
  "nbformat_minor": 0
}